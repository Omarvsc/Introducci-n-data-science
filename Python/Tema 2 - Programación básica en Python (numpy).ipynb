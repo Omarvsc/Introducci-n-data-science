{
 "cells": [
  {
   "cell_type": "markdown",
   "metadata": {},
   "source": [
    "# Programación básica en Python"
   ]
  },
  {
   "cell_type": "markdown",
   "metadata": {},
   "source": [
    "### Importar librerías "
   ]
  },
  {
   "cell_type": "code",
   "execution_count": 1,
   "metadata": {},
   "outputs": [],
   "source": [
    "import numpy as np\n",
    "#import pandas as pd"
   ]
  },
  {
   "cell_type": "markdown",
   "metadata": {},
   "source": [
    "## Creación de listas y vectores + operaciones super básicas "
   ]
  },
  {
   "cell_type": "markdown",
   "metadata": {},
   "source": [
    "Creación de una lista"
   ]
  },
  {
   "cell_type": "code",
   "execution_count": 2,
   "metadata": {},
   "outputs": [],
   "source": [
    "#Se define la lista\n",
    "lista=[-2,5,1,5,3,0,-6.5]"
   ]
  },
  {
   "cell_type": "markdown",
   "metadata": {},
   "source": [
    "Veamos que pasa al sumar un valor a la lista y al vector"
   ]
  },
  {
   "cell_type": "code",
   "execution_count": 3,
   "metadata": {},
   "outputs": [
    {
     "ename": "TypeError",
     "evalue": "can only concatenate list (not \"int\") to list",
     "output_type": "error",
     "traceback": [
      "\u001b[1;31m---------------------------------------------------------------------------\u001b[0m",
      "\u001b[1;31mTypeError\u001b[0m                                 Traceback (most recent call last)",
      "\u001b[1;32m<ipython-input-3-740bbb4b263a>\u001b[0m in \u001b[0;36m<module>\u001b[1;34m\u001b[0m\n\u001b[1;32m----> 1\u001b[1;33m \u001b[0mlista\u001b[0m\u001b[1;33m+\u001b[0m\u001b[1;36m1\u001b[0m\u001b[1;33m\u001b[0m\u001b[1;33m\u001b[0m\u001b[0m\n\u001b[0m",
      "\u001b[1;31mTypeError\u001b[0m: can only concatenate list (not \"int\") to list"
     ]
    }
   ],
   "source": [
    "lista+1"
   ]
  },
  {
   "cell_type": "markdown",
   "metadata": {},
   "source": [
    "Como podemos observar se generó un error ya que al ser lista no permite hacer operaciones matemáticas de manera rápida, ya que por definición una lista puede contener mas listas"
   ]
  },
  {
   "cell_type": "code",
   "execution_count": 4,
   "metadata": {},
   "outputs": [],
   "source": [
    "lista_especial=[-2,5,1,5,3,0,-6.5,[-2,5,1,5,3,0,-6.5],[\"Receso\"]]"
   ]
  },
  {
   "cell_type": "code",
   "execution_count": 5,
   "metadata": {},
   "outputs": [
    {
     "name": "stdout",
     "output_type": "stream",
     "text": [
      "[-2, 5, 1, 5, 3, 0, -6.5, [-2, 5, 1, 5, 3, 0, -6.5], ['Receso']]\n",
      "-2\n",
      "[-2, 5, 1, 5, 3, 0, -6.5]\n",
      "1\n",
      "['Receso']\n"
     ]
    }
   ],
   "source": [
    "print(lista_especial)\n",
    "print(lista_especial[0])\n",
    "print(lista_especial[7])\n",
    "print(lista_especial[7][2])\n",
    "print(lista_especial[8])"
   ]
  },
  {
   "cell_type": "markdown",
   "metadata": {},
   "source": [
    "Creación de vector a partir de una lista definida"
   ]
  },
  {
   "cell_type": "code",
   "execution_count": 6,
   "metadata": {},
   "outputs": [],
   "source": [
    "# Convvertimos la lista a vector, lo cual nos ayudará a poder realizar operaciones de manera facil\n",
    "lista_0=np.array(lista)"
   ]
  },
  {
   "cell_type": "code",
   "execution_count": 7,
   "metadata": {},
   "outputs": [
    {
     "name": "stdout",
     "output_type": "stream",
     "text": [
      "Lista convertido a vector\n",
      "[-2.   5.   1.   5.   3.   0.  -6.5]\n",
      "\n",
      "\n",
      "las operaciones se ejecutan a cada elemento del vector\n",
      "\n",
      "\n",
      "[-1.   6.   2.   6.   4.   1.  -5.5]\n",
      "[ -4.  10.   2.  10.   6.   0. -13.]\n",
      "[ 4.   25.    1.   25.    9.    0.   42.25]\n",
      "[ 1.  1.  1.  1.  1. nan  1.]\n"
     ]
    },
    {
     "name": "stderr",
     "output_type": "stream",
     "text": [
      "C:\\Users\\Omar\\anaconda3\\lib\\site-packages\\ipykernel_launcher.py:9: RuntimeWarning: invalid value encountered in true_divide\n",
      "  if __name__ == '__main__':\n"
     ]
    }
   ],
   "source": [
    "print(\"Lista convertido a vector\")\n",
    "print(lista_0)\n",
    "print(\"\\n\")\n",
    "print(\"las operaciones se ejecutan a cada elemento del vector\")\n",
    "print(\"\\n\")\n",
    "print(lista_0+1)\n",
    "print(lista_0+lista_0)\n",
    "print(lista_0*lista_0)\n",
    "print(lista_0/lista_0)"
   ]
  },
  {
   "cell_type": "markdown",
   "metadata": {},
   "source": [
    "Podemos ver un **warning** debido a que en la división, uno de los elementos es cero"
   ]
  },
  {
   "cell_type": "markdown",
   "metadata": {},
   "source": [
    "**Creación de vector a partir de numero aleatorios**"
   ]
  },
  {
   "cell_type": "markdown",
   "metadata": {},
   "source": [
    "https://numpy.org/doc/1.16/reference/routines.random.html"
   ]
  },
  {
   "cell_type": "code",
   "execution_count": 8,
   "metadata": {},
   "outputs": [
    {
     "name": "stdout",
     "output_type": "stream",
     "text": [
      "[0.95475934 0.88093363 0.07340492 0.47615909 0.09590056 0.80049001\n",
      " 0.77790843 0.5286604 ]\n",
      "[1.95475934 1.88093363 1.07340492 1.47615909 1.09590056 1.80049001\n",
      " 1.77790843 1.5286604 ]\n"
     ]
    }
   ],
   "source": [
    "#random.rand(): vector con elementos aleatorios\n",
    "lista_1=np.random.rand(8)\n",
    "lista_2=lista_1+1\n",
    "print(lista_1)\n",
    "print(lista_2)"
   ]
  },
  {
   "cell_type": "code",
   "execution_count": 9,
   "metadata": {},
   "outputs": [
    {
     "name": "stdout",
     "output_type": "stream",
     "text": [
      "3\n"
     ]
    }
   ],
   "source": [
    "#random.randint: genera numero aleatorio entre dos números.\n",
    "lista_3=np.random.randint(2,18)\n",
    "print(lista_3)"
   ]
  },
  {
   "cell_type": "code",
   "execution_count": 10,
   "metadata": {},
   "outputs": [
    {
     "name": "stdout",
     "output_type": "stream",
     "text": [
      "[-1.63793751 -1.02995994 -0.47723705 -0.6198172  -0.51422968 -1.17304574\n",
      " -0.32534812  1.15245358  1.48656872 -2.22271192]\n"
     ]
    }
   ],
   "source": [
    "#random.randn: genera vector de distribución normal\n",
    "lista_4=np.random.randn(10)\n",
    "print(lista_4)"
   ]
  },
  {
   "cell_type": "markdown",
   "metadata": {},
   "source": [
    "**Operaciones aritmeticas de los elementos de un vector**"
   ]
  },
  {
   "cell_type": "code",
   "execution_count": 10,
   "metadata": {},
   "outputs": [
    {
     "name": "stdout",
     "output_type": "stream",
     "text": [
      "suma de los elementos del vector\n",
      "4.588216378637088\n",
      "\n",
      "\n",
      "promedio de los elementos del vector\n",
      "0.573527047329636\n",
      "\n",
      "\n",
      "mediana de los elementos del vector\n",
      "0.6532844172426486\n"
     ]
    }
   ],
   "source": [
    "print(\"suma de los elementos del vector\")\n",
    "print(lista_1.sum())\n",
    "print(\"\\n\")\n",
    "print(\"promedio de los elementos del vector\")\n",
    "print(lista_1.mean())\n",
    "print(\"\\n\")\n",
    "print(\"mediana de los elementos del vector\")\n",
    "print(np.median(lista_1))"
   ]
  },
  {
   "cell_type": "markdown",
   "metadata": {},
   "source": [
    "**Subconjunto de un vector**"
   ]
  },
  {
   "cell_type": "code",
   "execution_count": 11,
   "metadata": {},
   "outputs": [
    {
     "name": "stdout",
     "output_type": "stream",
     "text": [
      "(50,)\n",
      "(10,)\n"
     ]
    }
   ],
   "source": [
    "lista_6=np.random.random(50)\n",
    "print(lista_6.shape)\n",
    "lista_6_1=lista_6[10:20]\n",
    "print(lista_6_1.shape)"
   ]
  },
  {
   "cell_type": "markdown",
   "metadata": {},
   "source": [
    "### Vectores de cero y unos"
   ]
  },
  {
   "cell_type": "markdown",
   "metadata": {},
   "source": [
    "Se usa la función \"zeros\" para generar un vector de \"n\" elementos 0."
   ]
  },
  {
   "cell_type": "code",
   "execution_count": 12,
   "metadata": {},
   "outputs": [
    {
     "data": {
      "text/plain": [
       "array([0., 0., 0., 0., 0., 0., 0., 0., 0., 0.])"
      ]
     },
     "execution_count": 12,
     "metadata": {},
     "output_type": "execute_result"
    }
   ],
   "source": [
    "vector_0=np.zeros(10)\n",
    "vector_0"
   ]
  },
  {
   "cell_type": "markdown",
   "metadata": {},
   "source": [
    "Se usa la función \"ones\" para generar un vector de \"n\" elementos 1."
   ]
  },
  {
   "cell_type": "code",
   "execution_count": 13,
   "metadata": {},
   "outputs": [
    {
     "data": {
      "text/plain": [
       "array([1., 1., 1., 1., 1., 1., 1., 1., 1., 1.])"
      ]
     },
     "execution_count": 13,
     "metadata": {},
     "output_type": "execute_result"
    }
   ],
   "source": [
    "vector_1=np.ones(10)\n",
    "vector_1"
   ]
  },
  {
   "cell_type": "markdown",
   "metadata": {},
   "source": [
    "### Matrices"
   ]
  },
  {
   "cell_type": "markdown",
   "metadata": {},
   "source": [
    "Matriz de ceros"
   ]
  },
  {
   "cell_type": "code",
   "execution_count": 14,
   "metadata": {},
   "outputs": [
    {
     "data": {
      "text/plain": [
       "array([[0., 0., 0.],\n",
       "       [0., 0., 0.]])"
      ]
     },
     "execution_count": 14,
     "metadata": {},
     "output_type": "execute_result"
    }
   ],
   "source": [
    "np.zeros((2,3))"
   ]
  },
  {
   "cell_type": "markdown",
   "metadata": {},
   "source": [
    "Matriz desde una lista"
   ]
  },
  {
   "cell_type": "code",
   "execution_count": 15,
   "metadata": {},
   "outputs": [
    {
     "data": {
      "text/plain": [
       "array([['a', '1', '#'],\n",
       "       ['1', '-3', 'b']], dtype='<U2')"
      ]
     },
     "execution_count": 15,
     "metadata": {},
     "output_type": "execute_result"
    }
   ],
   "source": [
    "lista_7=[[\"a\",1,\"#\"],[1,-3,\"b\"]]\n",
    "np.array(lista_7)"
   ]
  },
  {
   "cell_type": "code",
   "execution_count": 16,
   "metadata": {},
   "outputs": [
    {
     "data": {
      "text/plain": [
       "array([['a', '1', '#'],\n",
       "       ['1', '-3', 'b'],\n",
       "       ['a', '1', '#'],\n",
       "       ['1', '-3', 'b'],\n",
       "       ['a', '1', '#'],\n",
       "       ['1', '-3', 'b']], dtype='<U2')"
      ]
     },
     "execution_count": 16,
     "metadata": {},
     "output_type": "execute_result"
    }
   ],
   "source": [
    "np.array(lista_7*3)"
   ]
  },
  {
   "cell_type": "code",
   "execution_count": 17,
   "metadata": {},
   "outputs": [
    {
     "name": "stdout",
     "output_type": "stream",
     "text": [
      "[[3 5 6]\n",
      " [2 4 3]]\n"
     ]
    }
   ],
   "source": [
    "lista_8=[[3,5,6],[2,4,3]]\n",
    "Matriz_2=np.array(lista_8)\n",
    "print(Matriz_2)"
   ]
  },
  {
   "cell_type": "markdown",
   "metadata": {},
   "source": [
    "Modificar los elementos de una matriz"
   ]
  },
  {
   "cell_type": "code",
   "execution_count": 18,
   "metadata": {},
   "outputs": [
    {
     "name": "stdout",
     "output_type": "stream",
     "text": [
      "cambiar el elemento (0,2) por cero\n",
      "[[3 5 0]\n",
      " [2 4 3]]\n"
     ]
    }
   ],
   "source": [
    "print(\"cambiar el elemento (0,2) por cero\")\n",
    "Matriz_2[0,2]=0\n",
    "print(Matriz_2)"
   ]
  },
  {
   "cell_type": "code",
   "execution_count": 19,
   "metadata": {},
   "outputs": [
    {
     "name": "stdout",
     "output_type": "stream",
     "text": [
      "multiplicar la columna del medio por -3\n",
      "[[  3 -15   0]\n",
      " [  2 -12   3]]\n"
     ]
    }
   ],
   "source": [
    "print(\"multiplicar la columna del medio por -3\")\n",
    "Matriz_2[:,1]=Matriz_2[:,1]*(-3)\n",
    "print(Matriz_2)"
   ]
  },
  {
   "cell_type": "markdown",
   "metadata": {},
   "source": [
    "### Concatenación"
   ]
  },
  {
   "cell_type": "code",
   "execution_count": 20,
   "metadata": {},
   "outputs": [
    {
     "name": "stdout",
     "output_type": "stream",
     "text": [
      "Sacaré 20 en el curso\n"
     ]
    }
   ],
   "source": [
    "a=\"Sacaré\"\n",
    "b=20\n",
    "c=\"en el curso\"\n",
    "\n",
    "#como b es numerico hay que convertir a string\n",
    "print(a+\" \"+ str(b) + \" \" + c)"
   ]
  },
  {
   "cell_type": "markdown",
   "metadata": {},
   "source": [
    "### Operadores lógicos"
   ]
  },
  {
   "cell_type": "markdown",
   "metadata": {},
   "source": [
    "Pueden revisar el siguiente enlace o muchos más que hay en la web\n",
    "https://j2logo.com/python/tutorial/operadores-en-python/"
   ]
  },
  {
   "cell_type": "markdown",
   "metadata": {},
   "source": [
    "Revisemos los más usados"
   ]
  },
  {
   "cell_type": "code",
   "execution_count": 21,
   "metadata": {},
   "outputs": [
    {
     "name": "stdout",
     "output_type": "stream",
     "text": [
      "x es mayor que z\n",
      "False\n",
      "\n",
      "\n",
      "x es mayor que z o x es mayor que y\n",
      "True\n",
      "\n",
      "\n",
      "z es mayor o igual que y y z es diferente a w\n",
      "True\n"
     ]
    }
   ],
   "source": [
    "#definimos variables\n",
    "z=10\n",
    "x=8\n",
    "y=3\n",
    "w=15\n",
    "\n",
    "#Veamos resultados\n",
    "print(\"x es mayor que z\")\n",
    "print(x>z)\n",
    "print(\"\\n\")\n",
    "print(\"x es mayor que z o x es mayor que y\")\n",
    "print(x>z or x>y)\n",
    "print(\"\\n\")\n",
    "print(\"z es mayor o igual que y y z es diferente a w\")\n",
    "print(z>=y and z!=w)"
   ]
  },
  {
   "cell_type": "markdown",
   "metadata": {},
   "source": [
    "### Operadores aritméticos "
   ]
  },
  {
   "cell_type": "code",
   "execution_count": 22,
   "metadata": {},
   "outputs": [
    {
     "name": "stdout",
     "output_type": "stream",
     "text": [
      "Operador potencia \"**\"\n",
      "elevar x a la w: 35184372088832\n",
      "\n",
      "\n",
      "Operador modulo \"%\"\n",
      "modulo de z entre y: 1\n",
      "\n",
      "\n",
      "Operador cociente \"//\"\n",
      "cociente de z entre y: 3\n"
     ]
    }
   ],
   "source": [
    "print('Operador potencia \"**\"')\n",
    "print(\"elevar x a la w: \",end=\"\")\n",
    "print(x**w)\n",
    "print(\"\\n\")\n",
    "print('Operador modulo \"%\"')\n",
    "print(\"modulo de z entre y: \",end=\"\")\n",
    "print(z%y)\n",
    "print(\"\\n\")\n",
    "print('Operador cociente \"//\"')\n",
    "print(\"cociente de z entre y: \",end=\"\")\n",
    "print(z//y)\n",
    "\n",
    "z=10\n",
    "x=8\n",
    "y=3\n",
    "w=15\n"
   ]
  },
  {
   "cell_type": "markdown",
   "metadata": {},
   "source": [
    "## Sentencia if, else "
   ]
  },
  {
   "cell_type": "markdown",
   "metadata": {},
   "source": [
    "https://j2logo.com/python/tutorial/python-if-sentencia/"
   ]
  },
  {
   "cell_type": "markdown",
   "metadata": {},
   "source": [
    "De manera general la estructura del comnando if es la siguiente:"
   ]
  },
  {
   "cell_type": "code",
   "execution_count": null,
   "metadata": {},
   "outputs": [],
   "source": [
    "if condicion:\n",
    "    bloque que se ejcuta"
   ]
  },
  {
   "cell_type": "markdown",
   "metadata": {},
   "source": [
    "Recordar que hay que respetar la tabulación en python."
   ]
  },
  {
   "cell_type": "markdown",
   "metadata": {},
   "source": [
    "##### else/ elif "
   ]
  },
  {
   "cell_type": "code",
   "execution_count": null,
   "metadata": {},
   "outputs": [],
   "source": [
    "if condicion_1:\n",
    "    bloque_1\n",
    "elif condicion_2:\n",
    "    bloque_2\n",
    "else:\n",
    "    bloque 3"
   ]
  },
  {
   "cell_type": "markdown",
   "metadata": {},
   "source": [
    "Algunos ejemplos:"
   ]
  },
  {
   "cell_type": "markdown",
   "metadata": {},
   "source": [
    "1. Calcular la división de 2 números (x/y)"
   ]
  },
  {
   "cell_type": "code",
   "execution_count": 23,
   "metadata": {},
   "outputs": [],
   "source": [
    "x=2\n",
    "y=6"
   ]
  },
  {
   "cell_type": "code",
   "execution_count": 24,
   "metadata": {},
   "outputs": [
    {
     "name": "stdout",
     "output_type": "stream",
     "text": [
      "la división de 2/6 es igual a: 0.33\n"
     ]
    }
   ],
   "source": [
    "if y != 0 :\n",
    "    print(\"la división de \" + str(x) + \"/\" + str(y) + \" es igual a: \", end=\"\")\n",
    "    print(np.round(x/y,2))\n",
    "else:\n",
    "    print(\"y toma el valor de cero; por tanto, no se puede calcular\")"
   ]
  },
  {
   "cell_type": "markdown",
   "metadata": {},
   "source": [
    "Notemos que usamos la función \"np.round()\" de numpy"
   ]
  },
  {
   "cell_type": "markdown",
   "metadata": {},
   "source": [
    "Vamos aprovechar la condicional de if/else para definir como se crea una función simple en python"
   ]
  },
  {
   "cell_type": "markdown",
   "metadata": {},
   "source": [
    "### Bonus"
   ]
  },
  {
   "cell_type": "markdown",
   "metadata": {},
   "source": [
    "https://entrenamiento-python-basico.readthedocs.io/es/latest/leccion5/funciones.html"
   ]
  },
  {
   "cell_type": "code",
   "execution_count": 25,
   "metadata": {},
   "outputs": [],
   "source": [
    "def division_facil(x,y):\n",
    "    if y != 0 :\n",
    "        print(\"la división de \" + str(x) + \"/\" + str(y) + \" es igual a: \", end=\"\")\n",
    "        print(np.round(x/y,2))\n",
    "    else:\n",
    "        print(\"y toma el valor de cero; por tanto, no se puede calcular\")"
   ]
  },
  {
   "cell_type": "code",
   "execution_count": 26,
   "metadata": {},
   "outputs": [
    {
     "name": "stdout",
     "output_type": "stream",
     "text": [
      "y toma el valor de cero; por tanto, no se puede calcular\n"
     ]
    }
   ],
   "source": [
    "division_facil(2,0)"
   ]
  },
  {
   "cell_type": "code",
   "execution_count": 27,
   "metadata": {},
   "outputs": [
    {
     "name": "stdout",
     "output_type": "stream",
     "text": [
      "la división de 8/6 es igual a: 1.33\n"
     ]
    }
   ],
   "source": [
    "division_facil(8,6)"
   ]
  },
  {
   "cell_type": "markdown",
   "metadata": {},
   "source": [
    "¿Funciones con excepciones?"
   ]
  },
  {
   "cell_type": "code",
   "execution_count": 28,
   "metadata": {},
   "outputs": [],
   "source": [
    "def division_facil_2(x,y):\n",
    "    try:\n",
    "        print(\"la división de \" + str(x) + \"/\" + str(y) + \" es igual a: \", end=\"\")\n",
    "        print(np.round(x/y,2))\n",
    "    except:\n",
    "        return \"No se puede calcular\""
   ]
  },
  {
   "cell_type": "markdown",
   "metadata": {},
   "source": [
    "###### ¿Si necesito que el valor sea ingresado en el notebook?"
   ]
  },
  {
   "cell_type": "markdown",
   "metadata": {},
   "source": [
    "Se usa la función \"input\" para que guarde el valor que se vaya a escribir"
   ]
  },
  {
   "cell_type": "code",
   "execution_count": 29,
   "metadata": {},
   "outputs": [
    {
     "name": "stdout",
     "output_type": "stream",
     "text": [
      "Ingresar el primer número: 6\n",
      "Ingresar el segundo número: 0\n",
      "la división de 6.0/0.0 es igual a: "
     ]
    },
    {
     "data": {
      "text/plain": [
       "'No se puede calcular'"
      ]
     },
     "execution_count": 29,
     "metadata": {},
     "output_type": "execute_result"
    }
   ],
   "source": [
    "x = float(input(\"Ingresar el primer número: \"))\n",
    "y = float(input(\"Ingresar el segundo número: \"))\n",
    "division_facil_2(x,y)"
   ]
  },
  {
   "cell_type": "markdown",
   "metadata": {},
   "source": [
    "### Fin Bonus "
   ]
  },
  {
   "cell_type": "markdown",
   "metadata": {},
   "source": [
    "## Bucles "
   ]
  },
  {
   "cell_type": "markdown",
   "metadata": {},
   "source": [
    "### For "
   ]
  },
  {
   "cell_type": "markdown",
   "metadata": {},
   "source": [
    "https://j2logo.com/bucle-for-en-python/"
   ]
  },
  {
   "cell_type": "markdown",
   "metadata": {},
   "source": [
    "Usado para recorrer lista, vectores, matrices y demás. Sintáxis:"
   ]
  },
  {
   "cell_type": "code",
   "execution_count": null,
   "metadata": {},
   "outputs": [],
   "source": [
    "for <elemento> in <vector,rango>:\n",
    "    bloque código"
   ]
  },
  {
   "cell_type": "markdown",
   "metadata": {},
   "source": [
    "Ejemplo 2:"
   ]
  },
  {
   "cell_type": "markdown",
   "metadata": {},
   "source": [
    "Imprimir cada elemento de la lista de un vector."
   ]
  },
  {
   "cell_type": "code",
   "execution_count": 30,
   "metadata": {},
   "outputs": [
    {
     "name": "stdout",
     "output_type": "stream",
     "text": [
      "0.63\n",
      "0.58\n",
      "0.71\n",
      "0.5\n",
      "0.47\n",
      "0.52\n",
      "0.78\n",
      "0.44\n",
      "0.59\n",
      "0.36\n"
     ]
    }
   ],
   "source": [
    "lista_8=np.random.random(10)\n",
    "for i in lista_8:\n",
    "    print(np.round(i,2))"
   ]
  },
  {
   "cell_type": "markdown",
   "metadata": {},
   "source": [
    "Ejemplo 3:"
   ]
  },
  {
   "cell_type": "markdown",
   "metadata": {},
   "source": [
    "Imprimir los valores de un vector multiplicado por el tamaño del mismo"
   ]
  },
  {
   "cell_type": "code",
   "execution_count": 31,
   "metadata": {},
   "outputs": [
    {
     "name": "stdout",
     "output_type": "stream",
     "text": [
      "6.28\n",
      "5.76\n",
      "7.11\n",
      "4.98\n",
      "4.75\n",
      "5.22\n",
      "7.78\n",
      "4.42\n",
      "5.9\n",
      "3.58\n"
     ]
    }
   ],
   "source": [
    "tamanio=len(lista_8)\n",
    "for i in lista_8:\n",
    "    print(np.round(i*tamanio,2))"
   ]
  },
  {
   "cell_type": "markdown",
   "metadata": {},
   "source": [
    "Ejemplo 4:"
   ]
  },
  {
   "cell_type": "markdown",
   "metadata": {},
   "source": [
    "Imprimir los valores hasta que encuentre un número menor 0.5"
   ]
  },
  {
   "cell_type": "code",
   "execution_count": 32,
   "metadata": {},
   "outputs": [
    {
     "data": {
      "text/plain": [
       "array([0.62808635, 0.57586581, 0.71109688, 0.49796184, 0.47460598,\n",
       "       0.52206285, 0.77766184, 0.44154541, 0.59002065, 0.35783299])"
      ]
     },
     "execution_count": 32,
     "metadata": {},
     "output_type": "execute_result"
    }
   ],
   "source": [
    "lista_8"
   ]
  },
  {
   "cell_type": "code",
   "execution_count": 34,
   "metadata": {},
   "outputs": [
    {
     "name": "stdout",
     "output_type": "stream",
     "text": [
      "0.63\n",
      "0.58\n",
      "0.71\n"
     ]
    }
   ],
   "source": [
    "for i in lista_8:\n",
    "    if i<0.5:\n",
    "        break\n",
    "    print(np.round(i,2))        "
   ]
  },
  {
   "cell_type": "markdown",
   "metadata": {},
   "source": [
    "Ejemplo 5:"
   ]
  },
  {
   "cell_type": "markdown",
   "metadata": {},
   "source": [
    "Guardar en un vector 15 números aleatorios entre 3 y 20 mediante un for"
   ]
  },
  {
   "cell_type": "code",
   "execution_count": 35,
   "metadata": {},
   "outputs": [],
   "source": [
    "#Creamos un vector vacío\n",
    "Vector_2=[]\n",
    "for i in range(15):\n",
    "    num_random=np.random.uniform(3,20)\n",
    "    Vector_2.append(np.round(num_random,5))\n",
    "# para numero aleatorios enteros, usar la función np.random.randint()    "
   ]
  },
  {
   "cell_type": "code",
   "execution_count": 36,
   "metadata": {
    "scrolled": true
   },
   "outputs": [
    {
     "data": {
      "text/plain": [
       "[14.57393,\n",
       " 18.9478,\n",
       " 18.06328,\n",
       " 16.83876,\n",
       " 6.0632,\n",
       " 12.86989,\n",
       " 5.71032,\n",
       " 9.92751,\n",
       " 16.69473,\n",
       " 8.65869,\n",
       " 4.6011,\n",
       " 6.0591,\n",
       " 10.7085,\n",
       " 13.21212,\n",
       " 6.37228]"
      ]
     },
     "execution_count": 36,
     "metadata": {},
     "output_type": "execute_result"
    }
   ],
   "source": [
    "Vector_2"
   ]
  },
  {
   "cell_type": "markdown",
   "metadata": {},
   "source": [
    "### While "
   ]
  },
  {
   "cell_type": "markdown",
   "metadata": {},
   "source": [
    "https://j2logo.com/python/tutorial/python-while-bucle/"
   ]
  },
  {
   "cell_type": "markdown",
   "metadata": {},
   "source": [
    "Usado para resolver los bloques de código mientras se cumpla la condición. Sintáxis:"
   ]
  },
  {
   "cell_type": "code",
   "execution_count": null,
   "metadata": {},
   "outputs": [],
   "source": [
    "while condicion:\n",
    "    bloque"
   ]
  },
  {
   "cell_type": "code",
   "execution_count": 37,
   "metadata": {},
   "outputs": [
    {
     "name": "stdout",
     "output_type": "stream",
     "text": [
      "primer elemento\n",
      "14.57393\n",
      "\n",
      "\n",
      "sexto elemento\n",
      "12.86989\n"
     ]
    }
   ],
   "source": [
    "#Recordar: para extraer un elemento del vector, según la posición se usa de la siguiente manera:\n",
    "print(\"primer elemento\")\n",
    "print(Vector_2[0])\n",
    "print(\"\\n\")\n",
    "print(\"sexto elemento\")\n",
    "print(Vector_2[5])"
   ]
  },
  {
   "cell_type": "markdown",
   "metadata": {},
   "source": [
    "Ejemplo 6:"
   ]
  },
  {
   "cell_type": "markdown",
   "metadata": {},
   "source": [
    "Separar en dos vectores considerando un mumero de corte"
   ]
  },
  {
   "cell_type": "code",
   "execution_count": 38,
   "metadata": {},
   "outputs": [
    {
     "name": "stdout",
     "output_type": "stream",
     "text": [
      "Vector original\n",
      "[14.57393, 18.9478, 18.06328, 16.83876, 6.0632, 12.86989, 5.71032, 9.92751, 16.69473, 8.65869, 4.6011, 6.0591, 10.7085, 13.21212, 6.37228]\n",
      "\n",
      "\n",
      "Vector con elementos menores a 10\n",
      "[6.0632, 5.71032, 9.92751, 8.65869, 4.6011, 6.0591, 6.37228]\n",
      "\n",
      "\n",
      "Vector con elementos mayores o igual a 10\n",
      "[14.57393, 18.9478, 18.06328, 16.83876, 12.86989, 16.69473, 10.7085, 13.21212]\n"
     ]
    }
   ],
   "source": [
    "indice=0\n",
    "tamanio=len(Vector_2)\n",
    "\n",
    "vector_menor_10=[]\n",
    "vector_10_a_mas=[]\n",
    "\n",
    "while indice<tamanio:\n",
    "    num_corte=Vector_2[indice]    \n",
    "    if num_corte<10:\n",
    "        vector_menor_10.append(num_corte)\n",
    "        indice +=1\n",
    "    else:\n",
    "        vector_10_a_mas.append(num_corte)\n",
    "        indice +=1\n",
    "\n",
    "print(\"Vector original\")        \n",
    "print(Vector_2)\n",
    "print(\"\\n\")\n",
    "print(\"Vector con elementos menores a 10\")\n",
    "print(vector_menor_10)\n",
    "print(\"\\n\")\n",
    "print(\"Vector con elementos mayores o igual a 10\")\n",
    "print(vector_10_a_mas)"
   ]
  },
  {
   "cell_type": "markdown",
   "metadata": {},
   "source": [
    "Haciendo punto de corte dinámico:"
   ]
  },
  {
   "cell_type": "code",
   "execution_count": 39,
   "metadata": {},
   "outputs": [
    {
     "name": "stdout",
     "output_type": "stream",
     "text": [
      "Ingresar el punto de corte: 8\n",
      "Vector original\n",
      "[14.57393, 18.9478, 18.06328, 16.83876, 6.0632, 12.86989, 5.71032, 9.92751, 16.69473, 8.65869, 4.6011, 6.0591, 10.7085, 13.21212, 6.37228]\n",
      "\n",
      "\n",
      "Vector con elementos menores a 10\n",
      "[6.0632, 5.71032, 4.6011, 6.0591, 6.37228]\n",
      "\n",
      "\n",
      "Vector con elementos mayores o igual a 10\n",
      "[14.57393, 18.9478, 18.06328, 16.83876, 12.86989, 9.92751, 16.69473, 8.65869, 10.7085, 13.21212]\n"
     ]
    }
   ],
   "source": [
    "indice=0\n",
    "tamanio=len(Vector_2)\n",
    "a=float(input(\"Ingresar el punto de corte: \"))\n",
    "\n",
    "vector_menor_10=[]\n",
    "vector_10_a_mas=[]\n",
    "\n",
    "while indice<tamanio:\n",
    "    num_corte=Vector_2[indice]    \n",
    "    if num_corte<a:\n",
    "        vector_menor_10.append(num_corte)\n",
    "        indice +=1\n",
    "    else:\n",
    "        vector_10_a_mas.append(num_corte)\n",
    "        indice +=1\n",
    "\n",
    "print(\"Vector original\")        \n",
    "print(Vector_2)\n",
    "print(\"\\n\")\n",
    "print(\"Vector con elementos menores a 10\")\n",
    "print(vector_menor_10)\n",
    "print(\"\\n\")\n",
    "print(\"Vector con elementos mayores o igual a 10\")\n",
    "print(vector_10_a_mas)"
   ]
  },
  {
   "cell_type": "markdown",
   "metadata": {},
   "source": [
    "Ejemplo 7:"
   ]
  },
  {
   "cell_type": "markdown",
   "metadata": {},
   "source": [
    "Revisar stock de frutas (forzamos usar while)"
   ]
  },
  {
   "cell_type": "code",
   "execution_count": 40,
   "metadata": {},
   "outputs": [],
   "source": [
    "frutas={'Platano':2,'Manzana':5,'Durazno':3,'Papaya':0,'Mandarina':0,'Naranja':5}"
   ]
  },
  {
   "cell_type": "code",
   "execution_count": 41,
   "metadata": {},
   "outputs": [
    {
     "data": {
      "text/plain": [
       "{'Platano': 2,\n",
       " 'Manzana': 5,\n",
       " 'Durazno': 3,\n",
       " 'Papaya': 0,\n",
       " 'Mandarina': 0,\n",
       " 'Naranja': 5}"
      ]
     },
     "execution_count": 41,
     "metadata": {},
     "output_type": "execute_result"
    }
   ],
   "source": [
    "frutas"
   ]
  },
  {
   "cell_type": "code",
   "execution_count": 42,
   "metadata": {},
   "outputs": [
    {
     "name": "stdout",
     "output_type": "stream",
     "text": [
      "Platano   2\n",
      "Manzana   5\n",
      "Durazno   3\n",
      "Papaya  Agotado\n",
      "Mandarina  Agotado\n",
      "Naranja   5\n"
     ]
    }
   ],
   "source": [
    "indice=0\n",
    "tamanio=len(frutas)\n",
    "while indice<tamanio:\n",
    "    for i,j in frutas.items():\n",
    "        if j>0:\n",
    "            print(i,\" \",j)\n",
    "        else:\n",
    "            print(i, \" Agotado\")\n",
    "        indice +=1"
   ]
  },
  {
   "cell_type": "code",
   "execution_count": 43,
   "metadata": {},
   "outputs": [
    {
     "data": {
      "text/plain": [
       "dict_values([2, 5, 3, 0, 0, 5])"
      ]
     },
     "execution_count": 43,
     "metadata": {},
     "output_type": "execute_result"
    }
   ],
   "source": [
    "frutas.values()"
   ]
  },
  {
   "cell_type": "markdown",
   "metadata": {},
   "source": [
    "### Ejercicios "
   ]
  },
  {
   "cell_type": "markdown",
   "metadata": {},
   "source": [
    "1. Hacer calculadrora básica, ingresando dos números y la operación a realizar."
   ]
  },
  {
   "cell_type": "markdown",
   "metadata": {},
   "source": [
    "2. guardar en un vector los números pares multiplicados por 5 de un vector de tamaño 100 creado de manera aleatoria (tienen que ser naturales).\n",
    "2.1. ¿De que tamaño es el vector generado por los numeros pares?\n",
    "2.2. ¿ Cuanto suman los elementos del vector?\n",
    "2.3. imprimir vector*"
   ]
  },
  {
   "cell_type": "markdown",
   "metadata": {},
   "source": [
    "3. adivinar el numero que se genera al azar (randint) del 1 al 20. Si es menor que imprima que esta por debajo, si es mayor que está por arriba y si es el número \"adivinaste!\". Se de be ingresar el numero de manera dinámica y debe tener 3 oportunidades. *"
   ]
  },
  {
   "cell_type": "markdown",
   "metadata": {},
   "source": [
    "4.Mediante un ejemplo mostrar las diferencias entre break y continue en un for anidado.*"
   ]
  }
 ],
 "metadata": {
  "kernelspec": {
   "display_name": "Python 3",
   "language": "python",
   "name": "python3"
  },
  "language_info": {
   "codemirror_mode": {
    "name": "ipython",
    "version": 3
   },
   "file_extension": ".py",
   "mimetype": "text/x-python",
   "name": "python",
   "nbconvert_exporter": "python",
   "pygments_lexer": "ipython3",
   "version": "3.7.6"
  }
 },
 "nbformat": 4,
 "nbformat_minor": 4
}
