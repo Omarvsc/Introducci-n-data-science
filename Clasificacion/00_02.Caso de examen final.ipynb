{
 "cells": [
  {
   "cell_type": "markdown",
   "metadata": {},
   "source": [
    "# Bank telemarketing"
   ]
  },
  {
   "cell_type": "markdown",
   "metadata": {},
   "source": [
    "Los datos están relacionados con campañas de marketing directo de una institución bancaria portuguesa. Las campañas de marketing se basaron en llamadas telefónicas. A menudo, se requería más de un contacto con el mismo cliente, para poder acceder si el producto (depósito a plazo bancario) estaría ('sí') o no ('no') suscrito."
   ]
  },
  {
   "cell_type": "markdown",
   "metadata": {},
   "source": [
    "Los datos han sido obtenido del sitio web:"
   ]
  },
  {
   "cell_type": "markdown",
   "metadata": {},
   "source": [
    "https://archive.ics.uci.edu/ml/datasets/bank+marketing"
   ]
  },
  {
   "cell_type": "markdown",
   "metadata": {},
   "source": [
    "## Implementación "
   ]
  },
  {
   "cell_type": "markdown",
   "metadata": {},
   "source": [
    "### Instalación y carga de librerías "
   ]
  },
  {
   "cell_type": "code",
   "execution_count": 1,
   "metadata": {},
   "outputs": [],
   "source": [
    "#!pip install imblearn"
   ]
  },
  {
   "cell_type": "code",
   "execution_count": 2,
   "metadata": {},
   "outputs": [],
   "source": [
    "import numpy as np\n",
    "import pandas as pd\n",
    "import matplotlib.pyplot as plt\n",
    "import os\n",
    "import statsmodels.api as sm\n",
    "import pickle\n",
    "import warnings\n",
    "from sklearn.feature_selection import RFE\n",
    "from sklearn.model_selection import train_test_split\n",
    "from imblearn.over_sampling import SMOTE\n",
    "from sklearn.linear_model import LogisticRegression\n",
    "from sklearn import metrics\n",
    "from sklearn.preprocessing import StandardScaler\n",
    "from sklearn.metrics import classification_report\n",
    "from sklearn.metrics import confusion_matrix\n",
    "from sklearn.metrics import roc_auc_score\n",
    "from sklearn.metrics import roc_curve"
   ]
  },
  {
   "cell_type": "code",
   "execution_count": 3,
   "metadata": {},
   "outputs": [],
   "source": [
    "warnings.filterwarnings(\"ignore\") # desactivar warnings"
   ]
  },
  {
   "cell_type": "markdown",
   "metadata": {},
   "source": [
    "Definimos ruta del dataset input y se procede a cargar el archivo"
   ]
  },
  {
   "cell_type": "code",
   "execution_count": 4,
   "metadata": {},
   "outputs": [],
   "source": [
    "ruta_input=\"C:/Users/Omar/Desktop/Omar/Temas data science/Bases/Bank telemarketing\""
   ]
  },
  {
   "cell_type": "code",
   "execution_count": 5,
   "metadata": {},
   "outputs": [],
   "source": [
    "base_banco=pd.read_csv(os.path.join(ruta_input,\"base_para_modelar.csv\"))"
   ]
  },
  {
   "cell_type": "markdown",
   "metadata": {},
   "source": [
    "Revisemos el tipo de variables"
   ]
  },
  {
   "cell_type": "code",
   "execution_count": 6,
   "metadata": {},
   "outputs": [
    {
     "name": "stdout",
     "output_type": "stream",
     "text": [
      "<class 'pandas.core.frame.DataFrame'>\n",
      "RangeIndex: 40689 entries, 0 to 40688\n",
      "Data columns (total 18 columns):\n",
      " #   Column      Non-Null Count  Dtype \n",
      "---  ------      --------------  ----- \n",
      " 0   Unnamed: 0  40689 non-null  int64 \n",
      " 1   age         40689 non-null  int64 \n",
      " 2   job         40689 non-null  object\n",
      " 3   marital     40689 non-null  object\n",
      " 4   education   40689 non-null  object\n",
      " 5   default     40689 non-null  object\n",
      " 6   balance     40689 non-null  int64 \n",
      " 7   housing     40689 non-null  object\n",
      " 8   loan        40689 non-null  object\n",
      " 9   contact     40689 non-null  object\n",
      " 10  day         40689 non-null  int64 \n",
      " 11  month       40689 non-null  object\n",
      " 12  duration    40689 non-null  int64 \n",
      " 13  campaign    40689 non-null  int64 \n",
      " 14  pdays       40689 non-null  int64 \n",
      " 15  previous    40689 non-null  int64 \n",
      " 16  poutcome    40689 non-null  object\n",
      " 17  y           40689 non-null  int64 \n",
      "dtypes: int64(9), object(9)\n",
      "memory usage: 5.6+ MB\n"
     ]
    }
   ],
   "source": [
    "base_banco.info()"
   ]
  },
  {
   "cell_type": "code",
   "execution_count": 7,
   "metadata": {},
   "outputs": [
    {
     "data": {
      "text/html": [
       "<div>\n",
       "<style scoped>\n",
       "    .dataframe tbody tr th:only-of-type {\n",
       "        vertical-align: middle;\n",
       "    }\n",
       "\n",
       "    .dataframe tbody tr th {\n",
       "        vertical-align: top;\n",
       "    }\n",
       "\n",
       "    .dataframe thead th {\n",
       "        text-align: right;\n",
       "    }\n",
       "</style>\n",
       "<table border=\"1\" class=\"dataframe\">\n",
       "  <thead>\n",
       "    <tr style=\"text-align: right;\">\n",
       "      <th></th>\n",
       "      <th>Unnamed: 0</th>\n",
       "      <th>age</th>\n",
       "      <th>job</th>\n",
       "      <th>marital</th>\n",
       "      <th>education</th>\n",
       "      <th>default</th>\n",
       "      <th>balance</th>\n",
       "      <th>housing</th>\n",
       "      <th>loan</th>\n",
       "      <th>contact</th>\n",
       "      <th>day</th>\n",
       "      <th>month</th>\n",
       "      <th>duration</th>\n",
       "      <th>campaign</th>\n",
       "      <th>pdays</th>\n",
       "      <th>previous</th>\n",
       "      <th>poutcome</th>\n",
       "      <th>y</th>\n",
       "    </tr>\n",
       "  </thead>\n",
       "  <tbody>\n",
       "    <tr>\n",
       "      <th>0</th>\n",
       "      <td>17337</td>\n",
       "      <td>34</td>\n",
       "      <td>technician</td>\n",
       "      <td>married</td>\n",
       "      <td>secondary</td>\n",
       "      <td>no</td>\n",
       "      <td>0</td>\n",
       "      <td>yes</td>\n",
       "      <td>no</td>\n",
       "      <td>telephone</td>\n",
       "      <td>28</td>\n",
       "      <td>jul</td>\n",
       "      <td>1025</td>\n",
       "      <td>2</td>\n",
       "      <td>-1</td>\n",
       "      <td>0</td>\n",
       "      <td>unknown</td>\n",
       "      <td>0</td>\n",
       "    </tr>\n",
       "    <tr>\n",
       "      <th>1</th>\n",
       "      <td>43321</td>\n",
       "      <td>31</td>\n",
       "      <td>student</td>\n",
       "      <td>single</td>\n",
       "      <td>unknown</td>\n",
       "      <td>no</td>\n",
       "      <td>7826</td>\n",
       "      <td>no</td>\n",
       "      <td>no</td>\n",
       "      <td>telephone</td>\n",
       "      <td>17</td>\n",
       "      <td>mar</td>\n",
       "      <td>133</td>\n",
       "      <td>7</td>\n",
       "      <td>-1</td>\n",
       "      <td>0</td>\n",
       "      <td>unknown</td>\n",
       "      <td>0</td>\n",
       "    </tr>\n",
       "    <tr>\n",
       "      <th>2</th>\n",
       "      <td>19379</td>\n",
       "      <td>36</td>\n",
       "      <td>management</td>\n",
       "      <td>single</td>\n",
       "      <td>tertiary</td>\n",
       "      <td>no</td>\n",
       "      <td>900</td>\n",
       "      <td>no</td>\n",
       "      <td>no</td>\n",
       "      <td>cellular</td>\n",
       "      <td>6</td>\n",
       "      <td>aug</td>\n",
       "      <td>499</td>\n",
       "      <td>4</td>\n",
       "      <td>-1</td>\n",
       "      <td>0</td>\n",
       "      <td>unknown</td>\n",
       "      <td>0</td>\n",
       "    </tr>\n",
       "    <tr>\n",
       "      <th>3</th>\n",
       "      <td>12230</td>\n",
       "      <td>40</td>\n",
       "      <td>unemployed</td>\n",
       "      <td>married</td>\n",
       "      <td>tertiary</td>\n",
       "      <td>no</td>\n",
       "      <td>1558</td>\n",
       "      <td>yes</td>\n",
       "      <td>no</td>\n",
       "      <td>unknown</td>\n",
       "      <td>20</td>\n",
       "      <td>jun</td>\n",
       "      <td>44</td>\n",
       "      <td>15</td>\n",
       "      <td>-1</td>\n",
       "      <td>0</td>\n",
       "      <td>unknown</td>\n",
       "      <td>0</td>\n",
       "    </tr>\n",
       "    <tr>\n",
       "      <th>4</th>\n",
       "      <td>9061</td>\n",
       "      <td>45</td>\n",
       "      <td>blue-collar</td>\n",
       "      <td>married</td>\n",
       "      <td>unknown</td>\n",
       "      <td>no</td>\n",
       "      <td>419</td>\n",
       "      <td>no</td>\n",
       "      <td>no</td>\n",
       "      <td>unknown</td>\n",
       "      <td>5</td>\n",
       "      <td>jun</td>\n",
       "      <td>420</td>\n",
       "      <td>1</td>\n",
       "      <td>-1</td>\n",
       "      <td>0</td>\n",
       "      <td>unknown</td>\n",
       "      <td>0</td>\n",
       "    </tr>\n",
       "  </tbody>\n",
       "</table>\n",
       "</div>"
      ],
      "text/plain": [
       "   Unnamed: 0  age          job  marital  education default  balance housing  \\\n",
       "0       17337   34   technician  married  secondary      no        0     yes   \n",
       "1       43321   31      student   single    unknown      no     7826      no   \n",
       "2       19379   36   management   single   tertiary      no      900      no   \n",
       "3       12230   40   unemployed  married   tertiary      no     1558     yes   \n",
       "4        9061   45  blue-collar  married    unknown      no      419      no   \n",
       "\n",
       "  loan    contact  day month  duration  campaign  pdays  previous poutcome  y  \n",
       "0   no  telephone   28   jul      1025         2     -1         0  unknown  0  \n",
       "1   no  telephone   17   mar       133         7     -1         0  unknown  0  \n",
       "2   no   cellular    6   aug       499         4     -1         0  unknown  0  \n",
       "3   no    unknown   20   jun        44        15     -1         0  unknown  0  \n",
       "4   no    unknown    5   jun       420         1     -1         0  unknown  0  "
      ]
     },
     "execution_count": 7,
     "metadata": {},
     "output_type": "execute_result"
    }
   ],
   "source": [
    "base_banco.head()"
   ]
  },
  {
   "cell_type": "code",
   "execution_count": 8,
   "metadata": {},
   "outputs": [
    {
     "data": {
      "text/plain": [
       "0    35929\n",
       "1     4760\n",
       "Name: y, dtype: int64"
      ]
     },
     "execution_count": 8,
     "metadata": {},
     "output_type": "execute_result"
    }
   ],
   "source": [
    "base_banco.y.value_counts()"
   ]
  },
  {
   "cell_type": "code",
   "execution_count": 9,
   "metadata": {},
   "outputs": [
    {
     "name": "stdout",
     "output_type": "stream",
     "text": [
      "porc. no\n",
      "0.8830150654968173\n",
      "porc. si\n",
      "0.11698493450318267\n"
     ]
    }
   ],
   "source": [
    "print('porc. no')\n",
    "print((base_banco['y'][base_banco.y==0].count())/(base_banco.shape[0]))\n",
    "print('porc. si')\n",
    "print((base_banco['y'][base_banco.y==1].count())/(base_banco.shape[0]))"
   ]
  },
  {
   "cell_type": "markdown",
   "metadata": {},
   "source": [
    "## Empecemos con el modelado"
   ]
  },
  {
   "cell_type": "markdown",
   "metadata": {},
   "source": [
    "La primera etapa en un proyecto de data sciene es **la limpieza de los datos**."
   ]
  },
  {
   "cell_type": "markdown",
   "metadata": {},
   "source": [
    "Convertimos las variables cualitativas en cuantitativas; para este caso , como **housting, loan y default** tienen como elementos **yes** y **no**, se puede representar como **1 y 0**"
   ]
  },
  {
   "cell_type": "markdown",
   "metadata": {},
   "source": [
    "Para la variable **month** se puede hacer de dos formas:\n",
    "1. Como cada mes representa un orden, se le puede asignar un número a cada mes.\n",
    "2. Se puede generar para cada variable una variable nueva (dummies)"
   ]
  },
  {
   "cell_type": "code",
   "execution_count": 10,
   "metadata": {},
   "outputs": [],
   "source": [
    "data_banco=base_banco.copy()"
   ]
  },
  {
   "cell_type": "code",
   "execution_count": 11,
   "metadata": {},
   "outputs": [],
   "source": [
    "# housing, loan\n",
    "data_banco.loc[data_banco['housing']=='yes',['housing']]=1\n",
    "data_banco.loc[data_banco['housing']=='no',['housing']]=0\n",
    "data_banco.loc[data_banco['loan']=='yes',['loan']]=1\n",
    "data_banco.loc[data_banco['loan']=='no',['loan']]=0\n",
    "data_banco.loc[data_banco['default']=='yes',['default']]=1\n",
    "data_banco.loc[data_banco['default']=='no',['default']]=0\n",
    "###\n",
    "data_banco.loc[data_banco['month']=='jan',['month']]=1\n",
    "data_banco.loc[data_banco['month']=='feb',['month']]=2\n",
    "data_banco.loc[data_banco['month']=='mar',['month']]=3\n",
    "data_banco.loc[data_banco['month']=='apr',['month']]=4\n",
    "data_banco.loc[data_banco['month']=='may',['month']]=5\n",
    "data_banco.loc[data_banco['month']=='jun',['month']]=6\n",
    "data_banco.loc[data_banco['month']=='jul',['month']]=7\n",
    "data_banco.loc[data_banco['month']=='aug',['month']]=8\n",
    "data_banco.loc[data_banco['month']=='sep',['month']]=9\n",
    "data_banco.loc[data_banco['month']=='oct',['month']]=10\n",
    "data_banco.loc[data_banco['month']=='nov',['month']]=11\n",
    "data_banco.loc[data_banco['month']=='dec',['month']]=12"
   ]
  },
  {
   "cell_type": "code",
   "execution_count": 12,
   "metadata": {},
   "outputs": [],
   "source": [
    "data_banco_bkp=data_banco.copy()"
   ]
  },
  {
   "cell_type": "code",
   "execution_count": 13,
   "metadata": {},
   "outputs": [
    {
     "data": {
      "text/html": [
       "<div>\n",
       "<style scoped>\n",
       "    .dataframe tbody tr th:only-of-type {\n",
       "        vertical-align: middle;\n",
       "    }\n",
       "\n",
       "    .dataframe tbody tr th {\n",
       "        vertical-align: top;\n",
       "    }\n",
       "\n",
       "    .dataframe thead th {\n",
       "        text-align: right;\n",
       "    }\n",
       "</style>\n",
       "<table border=\"1\" class=\"dataframe\">\n",
       "  <thead>\n",
       "    <tr style=\"text-align: right;\">\n",
       "      <th></th>\n",
       "      <th>Unnamed: 0</th>\n",
       "      <th>age</th>\n",
       "      <th>job</th>\n",
       "      <th>marital</th>\n",
       "      <th>education</th>\n",
       "      <th>default</th>\n",
       "      <th>balance</th>\n",
       "      <th>housing</th>\n",
       "      <th>loan</th>\n",
       "      <th>contact</th>\n",
       "      <th>day</th>\n",
       "      <th>month</th>\n",
       "      <th>duration</th>\n",
       "      <th>campaign</th>\n",
       "      <th>pdays</th>\n",
       "      <th>previous</th>\n",
       "      <th>poutcome</th>\n",
       "      <th>y</th>\n",
       "    </tr>\n",
       "  </thead>\n",
       "  <tbody>\n",
       "    <tr>\n",
       "      <th>0</th>\n",
       "      <td>17337</td>\n",
       "      <td>34</td>\n",
       "      <td>technician</td>\n",
       "      <td>married</td>\n",
       "      <td>secondary</td>\n",
       "      <td>0</td>\n",
       "      <td>0</td>\n",
       "      <td>1</td>\n",
       "      <td>0</td>\n",
       "      <td>telephone</td>\n",
       "      <td>28</td>\n",
       "      <td>7</td>\n",
       "      <td>1025</td>\n",
       "      <td>2</td>\n",
       "      <td>-1</td>\n",
       "      <td>0</td>\n",
       "      <td>unknown</td>\n",
       "      <td>0</td>\n",
       "    </tr>\n",
       "    <tr>\n",
       "      <th>1</th>\n",
       "      <td>43321</td>\n",
       "      <td>31</td>\n",
       "      <td>student</td>\n",
       "      <td>single</td>\n",
       "      <td>unknown</td>\n",
       "      <td>0</td>\n",
       "      <td>7826</td>\n",
       "      <td>0</td>\n",
       "      <td>0</td>\n",
       "      <td>telephone</td>\n",
       "      <td>17</td>\n",
       "      <td>3</td>\n",
       "      <td>133</td>\n",
       "      <td>7</td>\n",
       "      <td>-1</td>\n",
       "      <td>0</td>\n",
       "      <td>unknown</td>\n",
       "      <td>0</td>\n",
       "    </tr>\n",
       "    <tr>\n",
       "      <th>2</th>\n",
       "      <td>19379</td>\n",
       "      <td>36</td>\n",
       "      <td>management</td>\n",
       "      <td>single</td>\n",
       "      <td>tertiary</td>\n",
       "      <td>0</td>\n",
       "      <td>900</td>\n",
       "      <td>0</td>\n",
       "      <td>0</td>\n",
       "      <td>cellular</td>\n",
       "      <td>6</td>\n",
       "      <td>8</td>\n",
       "      <td>499</td>\n",
       "      <td>4</td>\n",
       "      <td>-1</td>\n",
       "      <td>0</td>\n",
       "      <td>unknown</td>\n",
       "      <td>0</td>\n",
       "    </tr>\n",
       "    <tr>\n",
       "      <th>3</th>\n",
       "      <td>12230</td>\n",
       "      <td>40</td>\n",
       "      <td>unemployed</td>\n",
       "      <td>married</td>\n",
       "      <td>tertiary</td>\n",
       "      <td>0</td>\n",
       "      <td>1558</td>\n",
       "      <td>1</td>\n",
       "      <td>0</td>\n",
       "      <td>unknown</td>\n",
       "      <td>20</td>\n",
       "      <td>6</td>\n",
       "      <td>44</td>\n",
       "      <td>15</td>\n",
       "      <td>-1</td>\n",
       "      <td>0</td>\n",
       "      <td>unknown</td>\n",
       "      <td>0</td>\n",
       "    </tr>\n",
       "    <tr>\n",
       "      <th>4</th>\n",
       "      <td>9061</td>\n",
       "      <td>45</td>\n",
       "      <td>blue-collar</td>\n",
       "      <td>married</td>\n",
       "      <td>unknown</td>\n",
       "      <td>0</td>\n",
       "      <td>419</td>\n",
       "      <td>0</td>\n",
       "      <td>0</td>\n",
       "      <td>unknown</td>\n",
       "      <td>5</td>\n",
       "      <td>6</td>\n",
       "      <td>420</td>\n",
       "      <td>1</td>\n",
       "      <td>-1</td>\n",
       "      <td>0</td>\n",
       "      <td>unknown</td>\n",
       "      <td>0</td>\n",
       "    </tr>\n",
       "  </tbody>\n",
       "</table>\n",
       "</div>"
      ],
      "text/plain": [
       "   Unnamed: 0  age          job  marital  education default  balance housing  \\\n",
       "0       17337   34   technician  married  secondary       0        0       1   \n",
       "1       43321   31      student   single    unknown       0     7826       0   \n",
       "2       19379   36   management   single   tertiary       0      900       0   \n",
       "3       12230   40   unemployed  married   tertiary       0     1558       1   \n",
       "4        9061   45  blue-collar  married    unknown       0      419       0   \n",
       "\n",
       "  loan    contact  day month  duration  campaign  pdays  previous poutcome  y  \n",
       "0    0  telephone   28     7      1025         2     -1         0  unknown  0  \n",
       "1    0  telephone   17     3       133         7     -1         0  unknown  0  \n",
       "2    0   cellular    6     8       499         4     -1         0  unknown  0  \n",
       "3    0    unknown   20     6        44        15     -1         0  unknown  0  \n",
       "4    0    unknown    5     6       420         1     -1         0  unknown  0  "
      ]
     },
     "execution_count": 13,
     "metadata": {},
     "output_type": "execute_result"
    }
   ],
   "source": [
    "data_banco.head()"
   ]
  },
  {
   "cell_type": "markdown",
   "metadata": {},
   "source": [
    "Generando varibles dummies para las otras variables cualitativas"
   ]
  },
  {
   "cell_type": "code",
   "execution_count": 14,
   "metadata": {},
   "outputs": [],
   "source": [
    "base_dummies=pd.get_dummies(data_banco[['job','marital','education','contact','poutcome']])"
   ]
  },
  {
   "cell_type": "code",
   "execution_count": 15,
   "metadata": {},
   "outputs": [],
   "source": [
    "data_banco=pd.concat([data_banco,base_dummies],axis=1)"
   ]
  },
  {
   "cell_type": "code",
   "execution_count": 16,
   "metadata": {},
   "outputs": [
    {
     "data": {
      "text/plain": [
       "(40689, 44)"
      ]
     },
     "execution_count": 16,
     "metadata": {},
     "output_type": "execute_result"
    }
   ],
   "source": [
    "data_banco.shape"
   ]
  },
  {
   "cell_type": "code",
   "execution_count": 17,
   "metadata": {},
   "outputs": [
    {
     "data": {
      "text/plain": [
       "Index(['Unnamed: 0', 'age', 'job', 'marital', 'education', 'default',\n",
       "       'balance', 'housing', 'loan', 'contact', 'day', 'month', 'duration',\n",
       "       'campaign', 'pdays', 'previous', 'poutcome', 'y', 'job_admin.',\n",
       "       'job_blue-collar', 'job_entrepreneur', 'job_housemaid',\n",
       "       'job_management', 'job_retired', 'job_self-employed', 'job_services',\n",
       "       'job_student', 'job_technician', 'job_unemployed', 'job_unknown',\n",
       "       'marital_divorced', 'marital_married', 'marital_single',\n",
       "       'education_primary', 'education_secondary', 'education_tertiary',\n",
       "       'education_unknown', 'contact_cellular', 'contact_telephone',\n",
       "       'contact_unknown', 'poutcome_failure', 'poutcome_other',\n",
       "       'poutcome_success', 'poutcome_unknown'],\n",
       "      dtype='object')"
      ]
     },
     "execution_count": 17,
     "metadata": {},
     "output_type": "execute_result"
    }
   ],
   "source": [
    "data_banco.columns"
   ]
  },
  {
   "cell_type": "code",
   "execution_count": 18,
   "metadata": {},
   "outputs": [
    {
     "data": {
      "text/html": [
       "<div>\n",
       "<style scoped>\n",
       "    .dataframe tbody tr th:only-of-type {\n",
       "        vertical-align: middle;\n",
       "    }\n",
       "\n",
       "    .dataframe tbody tr th {\n",
       "        vertical-align: top;\n",
       "    }\n",
       "\n",
       "    .dataframe thead th {\n",
       "        text-align: right;\n",
       "    }\n",
       "</style>\n",
       "<table border=\"1\" class=\"dataframe\">\n",
       "  <thead>\n",
       "    <tr style=\"text-align: right;\">\n",
       "      <th></th>\n",
       "      <th>Unnamed: 0</th>\n",
       "      <th>age</th>\n",
       "      <th>job</th>\n",
       "      <th>marital</th>\n",
       "      <th>education</th>\n",
       "      <th>default</th>\n",
       "      <th>balance</th>\n",
       "      <th>housing</th>\n",
       "      <th>loan</th>\n",
       "      <th>contact</th>\n",
       "      <th>...</th>\n",
       "      <th>education_secondary</th>\n",
       "      <th>education_tertiary</th>\n",
       "      <th>education_unknown</th>\n",
       "      <th>contact_cellular</th>\n",
       "      <th>contact_telephone</th>\n",
       "      <th>contact_unknown</th>\n",
       "      <th>poutcome_failure</th>\n",
       "      <th>poutcome_other</th>\n",
       "      <th>poutcome_success</th>\n",
       "      <th>poutcome_unknown</th>\n",
       "    </tr>\n",
       "  </thead>\n",
       "  <tbody>\n",
       "    <tr>\n",
       "      <th>0</th>\n",
       "      <td>17337</td>\n",
       "      <td>34</td>\n",
       "      <td>technician</td>\n",
       "      <td>married</td>\n",
       "      <td>secondary</td>\n",
       "      <td>0</td>\n",
       "      <td>0</td>\n",
       "      <td>1</td>\n",
       "      <td>0</td>\n",
       "      <td>telephone</td>\n",
       "      <td>...</td>\n",
       "      <td>1</td>\n",
       "      <td>0</td>\n",
       "      <td>0</td>\n",
       "      <td>0</td>\n",
       "      <td>1</td>\n",
       "      <td>0</td>\n",
       "      <td>0</td>\n",
       "      <td>0</td>\n",
       "      <td>0</td>\n",
       "      <td>1</td>\n",
       "    </tr>\n",
       "    <tr>\n",
       "      <th>1</th>\n",
       "      <td>43321</td>\n",
       "      <td>31</td>\n",
       "      <td>student</td>\n",
       "      <td>single</td>\n",
       "      <td>unknown</td>\n",
       "      <td>0</td>\n",
       "      <td>7826</td>\n",
       "      <td>0</td>\n",
       "      <td>0</td>\n",
       "      <td>telephone</td>\n",
       "      <td>...</td>\n",
       "      <td>0</td>\n",
       "      <td>0</td>\n",
       "      <td>1</td>\n",
       "      <td>0</td>\n",
       "      <td>1</td>\n",
       "      <td>0</td>\n",
       "      <td>0</td>\n",
       "      <td>0</td>\n",
       "      <td>0</td>\n",
       "      <td>1</td>\n",
       "    </tr>\n",
       "    <tr>\n",
       "      <th>2</th>\n",
       "      <td>19379</td>\n",
       "      <td>36</td>\n",
       "      <td>management</td>\n",
       "      <td>single</td>\n",
       "      <td>tertiary</td>\n",
       "      <td>0</td>\n",
       "      <td>900</td>\n",
       "      <td>0</td>\n",
       "      <td>0</td>\n",
       "      <td>cellular</td>\n",
       "      <td>...</td>\n",
       "      <td>0</td>\n",
       "      <td>1</td>\n",
       "      <td>0</td>\n",
       "      <td>1</td>\n",
       "      <td>0</td>\n",
       "      <td>0</td>\n",
       "      <td>0</td>\n",
       "      <td>0</td>\n",
       "      <td>0</td>\n",
       "      <td>1</td>\n",
       "    </tr>\n",
       "    <tr>\n",
       "      <th>3</th>\n",
       "      <td>12230</td>\n",
       "      <td>40</td>\n",
       "      <td>unemployed</td>\n",
       "      <td>married</td>\n",
       "      <td>tertiary</td>\n",
       "      <td>0</td>\n",
       "      <td>1558</td>\n",
       "      <td>1</td>\n",
       "      <td>0</td>\n",
       "      <td>unknown</td>\n",
       "      <td>...</td>\n",
       "      <td>0</td>\n",
       "      <td>1</td>\n",
       "      <td>0</td>\n",
       "      <td>0</td>\n",
       "      <td>0</td>\n",
       "      <td>1</td>\n",
       "      <td>0</td>\n",
       "      <td>0</td>\n",
       "      <td>0</td>\n",
       "      <td>1</td>\n",
       "    </tr>\n",
       "    <tr>\n",
       "      <th>4</th>\n",
       "      <td>9061</td>\n",
       "      <td>45</td>\n",
       "      <td>blue-collar</td>\n",
       "      <td>married</td>\n",
       "      <td>unknown</td>\n",
       "      <td>0</td>\n",
       "      <td>419</td>\n",
       "      <td>0</td>\n",
       "      <td>0</td>\n",
       "      <td>unknown</td>\n",
       "      <td>...</td>\n",
       "      <td>0</td>\n",
       "      <td>0</td>\n",
       "      <td>1</td>\n",
       "      <td>0</td>\n",
       "      <td>0</td>\n",
       "      <td>1</td>\n",
       "      <td>0</td>\n",
       "      <td>0</td>\n",
       "      <td>0</td>\n",
       "      <td>1</td>\n",
       "    </tr>\n",
       "  </tbody>\n",
       "</table>\n",
       "<p>5 rows × 44 columns</p>\n",
       "</div>"
      ],
      "text/plain": [
       "   Unnamed: 0  age          job  marital  education default  balance housing  \\\n",
       "0       17337   34   technician  married  secondary       0        0       1   \n",
       "1       43321   31      student   single    unknown       0     7826       0   \n",
       "2       19379   36   management   single   tertiary       0      900       0   \n",
       "3       12230   40   unemployed  married   tertiary       0     1558       1   \n",
       "4        9061   45  blue-collar  married    unknown       0      419       0   \n",
       "\n",
       "  loan    contact  ...  education_secondary education_tertiary  \\\n",
       "0    0  telephone  ...                    1                  0   \n",
       "1    0  telephone  ...                    0                  0   \n",
       "2    0   cellular  ...                    0                  1   \n",
       "3    0    unknown  ...                    0                  1   \n",
       "4    0    unknown  ...                    0                  0   \n",
       "\n",
       "   education_unknown  contact_cellular  contact_telephone  contact_unknown  \\\n",
       "0                  0                 0                  1                0   \n",
       "1                  1                 0                  1                0   \n",
       "2                  0                 1                  0                0   \n",
       "3                  0                 0                  0                1   \n",
       "4                  1                 0                  0                1   \n",
       "\n",
       "  poutcome_failure  poutcome_other  poutcome_success  poutcome_unknown  \n",
       "0                0               0                 0                 1  \n",
       "1                0               0                 0                 1  \n",
       "2                0               0                 0                 1  \n",
       "3                0               0                 0                 1  \n",
       "4                0               0                 0                 1  \n",
       "\n",
       "[5 rows x 44 columns]"
      ]
     },
     "execution_count": 18,
     "metadata": {},
     "output_type": "execute_result"
    }
   ],
   "source": [
    "data_banco.head()"
   ]
  },
  {
   "cell_type": "markdown",
   "metadata": {},
   "source": [
    "Quitando las variables cualitativas (probar de otra forma)"
   ]
  },
  {
   "cell_type": "code",
   "execution_count": 19,
   "metadata": {},
   "outputs": [],
   "source": [
    "X=['age', 'default', 'balance', 'housing',\n",
    "       'loan', 'day', 'month', 'duration', 'campaign', 'pdays',\n",
    "       'previous', 'job_admin.', 'job_blue-collar',\n",
    "       'job_entrepreneur', 'job_housemaid', 'job_management', 'job_retired',\n",
    "       'job_self-employed', 'job_services', 'job_student', 'job_technician',\n",
    "       'job_unemployed', 'job_unknown', 'marital_divorced', 'marital_married',\n",
    "       'marital_single', 'education_primary', 'education_secondary',\n",
    "       'education_tertiary', 'education_unknown', 'contact_cellular',\n",
    "       'contact_telephone', 'contact_unknown', 'poutcome_failure',\n",
    "       'poutcome_other', 'poutcome_success', 'poutcome_unknown']\n",
    "Y=['y']"
   ]
  },
  {
   "cell_type": "markdown",
   "metadata": {},
   "source": [
    "Separando los dataframe:\n",
    "1. Base_X: Variables independientes.\n",
    "2. Base_y: Variable dependiente (target)."
   ]
  },
  {
   "cell_type": "code",
   "execution_count": 20,
   "metadata": {},
   "outputs": [],
   "source": [
    "base_X=data_banco[X]\n",
    "base_y=data_banco[Y]"
   ]
  },
  {
   "cell_type": "markdown",
   "metadata": {},
   "source": [
    "Cambiamos tipo de datos a algunas variables para que no tengamos problemas al ejecutar el modelo"
   ]
  },
  {
   "cell_type": "code",
   "execution_count": 21,
   "metadata": {},
   "outputs": [],
   "source": [
    "base_X['month'].apply(int)\n",
    "base_X['default']=base_X['default'].apply(int)\n",
    "base_X['housing']=base_X['housing'].apply(int)\n",
    "base_X['loan']=base_X['loan'].apply(int)\n",
    "base_y['y']=base_y['y'].apply(int)"
   ]
  },
  {
   "cell_type": "markdown",
   "metadata": {},
   "source": [
    "## IMPORTANTE!!!"
   ]
  },
  {
   "cell_type": "markdown",
   "metadata": {},
   "source": [
    "Para el modelo de regresión logística es recomendable estandarizar los datos, para evitar el overfitting."
   ]
  },
  {
   "cell_type": "markdown",
   "metadata": {},
   "source": [
    "Vamos aplicar **apply** para aplicar la normalización, mas adelante veremos que hay librerías que se encargar de la estandarización"
   ]
  },
  {
   "cell_type": "code",
   "execution_count": 22,
   "metadata": {},
   "outputs": [],
   "source": [
    "base_X_scal=base_X.apply(lambda x: (x-x.mean())/x.std(), axis=0)"
   ]
  },
  {
   "cell_type": "code",
   "execution_count": 23,
   "metadata": {},
   "outputs": [
    {
     "data": {
      "text/html": [
       "<div>\n",
       "<style scoped>\n",
       "    .dataframe tbody tr th:only-of-type {\n",
       "        vertical-align: middle;\n",
       "    }\n",
       "\n",
       "    .dataframe tbody tr th {\n",
       "        vertical-align: top;\n",
       "    }\n",
       "\n",
       "    .dataframe thead th {\n",
       "        text-align: right;\n",
       "    }\n",
       "</style>\n",
       "<table border=\"1\" class=\"dataframe\">\n",
       "  <thead>\n",
       "    <tr style=\"text-align: right;\">\n",
       "      <th></th>\n",
       "      <th>age</th>\n",
       "      <th>default</th>\n",
       "      <th>balance</th>\n",
       "      <th>housing</th>\n",
       "      <th>loan</th>\n",
       "      <th>day</th>\n",
       "      <th>month</th>\n",
       "      <th>duration</th>\n",
       "      <th>campaign</th>\n",
       "      <th>pdays</th>\n",
       "      <th>...</th>\n",
       "      <th>education_secondary</th>\n",
       "      <th>education_tertiary</th>\n",
       "      <th>education_unknown</th>\n",
       "      <th>contact_cellular</th>\n",
       "      <th>contact_telephone</th>\n",
       "      <th>contact_unknown</th>\n",
       "      <th>poutcome_failure</th>\n",
       "      <th>poutcome_other</th>\n",
       "      <th>poutcome_success</th>\n",
       "      <th>poutcome_unknown</th>\n",
       "    </tr>\n",
       "  </thead>\n",
       "  <tbody>\n",
       "    <tr>\n",
       "      <th>0</th>\n",
       "      <td>-0.651253</td>\n",
       "      <td>-0.135725</td>\n",
       "      <td>-0.447938</td>\n",
       "      <td>0.893971</td>\n",
       "      <td>-0.437458</td>\n",
       "      <td>1.463471</td>\n",
       "      <td>0.354764</td>\n",
       "      <td>2.981529</td>\n",
       "      <td>-0.246447</td>\n",
       "      <td>-0.411751</td>\n",
       "      <td>...</td>\n",
       "      <td>0.972759</td>\n",
       "      <td>-0.644368</td>\n",
       "      <td>-0.207136</td>\n",
       "      <td>-1.356896</td>\n",
       "      <td>3.802498</td>\n",
       "      <td>-0.634869</td>\n",
       "      <td>-0.349533</td>\n",
       "      <td>-0.205063</td>\n",
       "      <td>-0.186591</td>\n",
       "      <td>0.473072</td>\n",
       "    </tr>\n",
       "    <tr>\n",
       "      <th>1</th>\n",
       "      <td>-0.933895</td>\n",
       "      <td>-0.135725</td>\n",
       "      <td>2.110603</td>\n",
       "      <td>-1.118577</td>\n",
       "      <td>-0.437458</td>\n",
       "      <td>0.142554</td>\n",
       "      <td>-1.30782</td>\n",
       "      <td>-0.484941</td>\n",
       "      <td>1.361068</td>\n",
       "      <td>-0.411751</td>\n",
       "      <td>...</td>\n",
       "      <td>-1.027979</td>\n",
       "      <td>-0.644368</td>\n",
       "      <td>4.827616</td>\n",
       "      <td>-1.356896</td>\n",
       "      <td>3.802498</td>\n",
       "      <td>-0.634869</td>\n",
       "      <td>-0.349533</td>\n",
       "      <td>-0.205063</td>\n",
       "      <td>-0.186591</td>\n",
       "      <td>0.473072</td>\n",
       "    </tr>\n",
       "    <tr>\n",
       "      <th>2</th>\n",
       "      <td>-0.462824</td>\n",
       "      <td>-0.135725</td>\n",
       "      <td>-0.153703</td>\n",
       "      <td>-1.118577</td>\n",
       "      <td>-0.437458</td>\n",
       "      <td>-1.178363</td>\n",
       "      <td>0.77041</td>\n",
       "      <td>0.937400</td>\n",
       "      <td>0.396559</td>\n",
       "      <td>-0.411751</td>\n",
       "      <td>...</td>\n",
       "      <td>-1.027979</td>\n",
       "      <td>1.551870</td>\n",
       "      <td>-0.207136</td>\n",
       "      <td>0.736958</td>\n",
       "      <td>-0.262979</td>\n",
       "      <td>-0.634869</td>\n",
       "      <td>-0.349533</td>\n",
       "      <td>-0.205063</td>\n",
       "      <td>-0.186591</td>\n",
       "      <td>0.473072</td>\n",
       "    </tr>\n",
       "    <tr>\n",
       "      <th>3</th>\n",
       "      <td>-0.085967</td>\n",
       "      <td>-0.135725</td>\n",
       "      <td>0.061416</td>\n",
       "      <td>0.893971</td>\n",
       "      <td>-0.437458</td>\n",
       "      <td>0.502804</td>\n",
       "      <td>-0.0608826</td>\n",
       "      <td>-0.830810</td>\n",
       "      <td>3.933092</td>\n",
       "      <td>-0.411751</td>\n",
       "      <td>...</td>\n",
       "      <td>-1.027979</td>\n",
       "      <td>1.551870</td>\n",
       "      <td>-0.207136</td>\n",
       "      <td>-1.356896</td>\n",
       "      <td>-0.262979</td>\n",
       "      <td>1.575089</td>\n",
       "      <td>-0.349533</td>\n",
       "      <td>-0.205063</td>\n",
       "      <td>-0.186591</td>\n",
       "      <td>0.473072</td>\n",
       "    </tr>\n",
       "    <tr>\n",
       "      <th>4</th>\n",
       "      <td>0.385105</td>\n",
       "      <td>-0.135725</td>\n",
       "      <td>-0.310955</td>\n",
       "      <td>-1.118577</td>\n",
       "      <td>-0.437458</td>\n",
       "      <td>-1.298446</td>\n",
       "      <td>-0.0608826</td>\n",
       "      <td>0.630392</td>\n",
       "      <td>-0.567950</td>\n",
       "      <td>-0.411751</td>\n",
       "      <td>...</td>\n",
       "      <td>-1.027979</td>\n",
       "      <td>-0.644368</td>\n",
       "      <td>4.827616</td>\n",
       "      <td>-1.356896</td>\n",
       "      <td>-0.262979</td>\n",
       "      <td>1.575089</td>\n",
       "      <td>-0.349533</td>\n",
       "      <td>-0.205063</td>\n",
       "      <td>-0.186591</td>\n",
       "      <td>0.473072</td>\n",
       "    </tr>\n",
       "  </tbody>\n",
       "</table>\n",
       "<p>5 rows × 37 columns</p>\n",
       "</div>"
      ],
      "text/plain": [
       "        age   default   balance   housing      loan       day      month  \\\n",
       "0 -0.651253 -0.135725 -0.447938  0.893971 -0.437458  1.463471   0.354764   \n",
       "1 -0.933895 -0.135725  2.110603 -1.118577 -0.437458  0.142554   -1.30782   \n",
       "2 -0.462824 -0.135725 -0.153703 -1.118577 -0.437458 -1.178363    0.77041   \n",
       "3 -0.085967 -0.135725  0.061416  0.893971 -0.437458  0.502804 -0.0608826   \n",
       "4  0.385105 -0.135725 -0.310955 -1.118577 -0.437458 -1.298446 -0.0608826   \n",
       "\n",
       "   duration  campaign     pdays  ...  education_secondary  education_tertiary  \\\n",
       "0  2.981529 -0.246447 -0.411751  ...             0.972759           -0.644368   \n",
       "1 -0.484941  1.361068 -0.411751  ...            -1.027979           -0.644368   \n",
       "2  0.937400  0.396559 -0.411751  ...            -1.027979            1.551870   \n",
       "3 -0.830810  3.933092 -0.411751  ...            -1.027979            1.551870   \n",
       "4  0.630392 -0.567950 -0.411751  ...            -1.027979           -0.644368   \n",
       "\n",
       "   education_unknown  contact_cellular  contact_telephone  contact_unknown  \\\n",
       "0          -0.207136         -1.356896           3.802498        -0.634869   \n",
       "1           4.827616         -1.356896           3.802498        -0.634869   \n",
       "2          -0.207136          0.736958          -0.262979        -0.634869   \n",
       "3          -0.207136         -1.356896          -0.262979         1.575089   \n",
       "4           4.827616         -1.356896          -0.262979         1.575089   \n",
       "\n",
       "   poutcome_failure  poutcome_other  poutcome_success  poutcome_unknown  \n",
       "0         -0.349533       -0.205063         -0.186591          0.473072  \n",
       "1         -0.349533       -0.205063         -0.186591          0.473072  \n",
       "2         -0.349533       -0.205063         -0.186591          0.473072  \n",
       "3         -0.349533       -0.205063         -0.186591          0.473072  \n",
       "4         -0.349533       -0.205063         -0.186591          0.473072  \n",
       "\n",
       "[5 rows x 37 columns]"
      ]
     },
     "execution_count": 23,
     "metadata": {},
     "output_type": "execute_result"
    }
   ],
   "source": [
    "base_X_scal.head()"
   ]
  },
  {
   "cell_type": "markdown",
   "metadata": {},
   "source": [
    "Podemos realizar un análisis de correlación de pearson para **\"quitar\"** algunas variables, no importa si se hace antes o después de la estandarización, ya que no se ve afectada por la escala"
   ]
  },
  {
   "cell_type": "code",
   "execution_count": 24,
   "metadata": {},
   "outputs": [],
   "source": [
    "correlacion =base_X_scal.corr()\n",
    "correlacion.to_csv(os.path.join(ruta_input,'correlacion.csv'))"
   ]
  },
  {
   "cell_type": "markdown",
   "metadata": {},
   "source": [
    "**Balancear para elegir variables input al modelo**"
   ]
  },
  {
   "cell_type": "markdown",
   "metadata": {},
   "source": [
    "Para ello usamos el método de smote, que en general va a generar datos de forma artificial de la característica \"desbalanceada\"."
   ]
  },
  {
   "cell_type": "markdown",
   "metadata": {},
   "source": [
    "Considerar que el balanceado **solo** se realizará al dataset de entrenamiento."
   ]
  },
  {
   "cell_type": "markdown",
   "metadata": {},
   "source": [
    "https://imbalanced-learn.org/stable/references/generated/imblearn.over_sampling.SMOTE.html"
   ]
  },
  {
   "cell_type": "code",
   "execution_count": 25,
   "metadata": {},
   "outputs": [],
   "source": [
    "X_traintest, X_val, y_traintest, y_val = train_test_split(base_X_scal, base_y, test_size=0.2, random_state=99)\n",
    "columns = X_traintest.columns"
   ]
  },
  {
   "cell_type": "code",
   "execution_count": 26,
   "metadata": {},
   "outputs": [],
   "source": [
    "X_train, X_test, y_train, y_test = train_test_split(X_traintest, y_traintest, test_size=0.25, random_state=99)"
   ]
  },
  {
   "cell_type": "code",
   "execution_count": 27,
   "metadata": {},
   "outputs": [
    {
     "name": "stdout",
     "output_type": "stream",
     "text": [
      "24413\n",
      "8138\n",
      "8138\n"
     ]
    }
   ],
   "source": [
    "print(len(X_train))\n",
    "print(len(X_test))\n",
    "print(len(X_val))"
   ]
  },
  {
   "cell_type": "code",
   "execution_count": 28,
   "metadata": {},
   "outputs": [
    {
     "name": "stdout",
     "output_type": "stream",
     "text": [
      "Tamaño de bal_data_x:  43186\n",
      "cantidad de registros 0: 21593\n",
      "cantidad de registros 1: 21593\n"
     ]
    }
   ],
   "source": [
    "bal = SMOTE(random_state=0)\n",
    "bal_data_X,bal_data_y= bal.fit_resample(X_train, y_train)\n",
    "bal_data_X = pd.DataFrame(data=bal_data_X,columns=columns )\n",
    "bal_data_y= pd.DataFrame(data=bal_data_y,columns=['y'])\n",
    "# we can Check the numbers of our data\n",
    "print(\"Tamaño de bal_data_x: \",len(bal_data_X))\n",
    "print(\"cantidad de registros 0:\",len(bal_data_y[bal_data_y['y']==0]))\n",
    "print(\"cantidad de registros 1:\",len(bal_data_y[bal_data_y['y']==1]))"
   ]
  },
  {
   "cell_type": "markdown",
   "metadata": {},
   "source": [
    "Así como se puede usar la correlación para \"elegir\" las variables input del modelo, se puede aplicar el RFE para que mediante iteraciones vaya \"eliminando variables\" que aporten menos al modelo."
   ]
  },
  {
   "cell_type": "markdown",
   "metadata": {},
   "source": [
    "Para nuestro caso, elegiré que el modelo sea de 10 variables."
   ]
  },
  {
   "cell_type": "markdown",
   "metadata": {},
   "source": [
    "https://scikit-learn.org/stable/modules/generated/sklearn.feature_selection.RFE.html"
   ]
  },
  {
   "cell_type": "markdown",
   "metadata": {},
   "source": [
    "Aplicaremos la regresión logística al conjunto de entrenamiento."
   ]
  },
  {
   "cell_type": "code",
   "execution_count": 29,
   "metadata": {},
   "outputs": [],
   "source": [
    "modelo_1 = LogisticRegression()\n",
    "\n",
    "rfe = RFE(modelo_1, n_features_to_select=10)\n",
    "rfe = rfe.fit(bal_data_X, bal_data_y.values.ravel())"
   ]
  },
  {
   "cell_type": "markdown",
   "metadata": {},
   "source": [
    "Como resultado el RFE me da la ponderación de importancia de las variables"
   ]
  },
  {
   "cell_type": "code",
   "execution_count": 30,
   "metadata": {},
   "outputs": [
    {
     "name": "stdout",
     "output_type": "stream",
     "text": [
      "[False False False  True  True False False  True  True False False  True\n",
      " False False False False False False False  True False False False False\n",
      " False False False False  True False False False  True False False  True\n",
      "  True]\n",
      "[17 14 13  1  1  8  6  1  1 10 15  1 16 28  9 26  2 11 23  1 19 25 21 24\n",
      " 18  7  3 20  1 27  4  5  1 22 12  1  1]\n"
     ]
    }
   ],
   "source": [
    "print(rfe.support_)\n",
    "print(rfe.ranking_)"
   ]
  },
  {
   "cell_type": "code",
   "execution_count": 31,
   "metadata": {},
   "outputs": [
    {
     "data": {
      "text/plain": [
       "Index(['age', 'default', 'balance', 'housing', 'loan', 'day', 'month',\n",
       "       'duration', 'campaign', 'pdays', 'previous', 'job_admin.',\n",
       "       'job_blue-collar', 'job_entrepreneur', 'job_housemaid',\n",
       "       'job_management', 'job_retired', 'job_self-employed', 'job_services',\n",
       "       'job_student', 'job_technician', 'job_unemployed', 'job_unknown',\n",
       "       'marital_divorced', 'marital_married', 'marital_single',\n",
       "       'education_primary', 'education_secondary', 'education_tertiary',\n",
       "       'education_unknown', 'contact_cellular', 'contact_telephone',\n",
       "       'contact_unknown', 'poutcome_failure', 'poutcome_other',\n",
       "       'poutcome_success', 'poutcome_unknown'],\n",
       "      dtype='object')"
      ]
     },
     "execution_count": 31,
     "metadata": {},
     "output_type": "execute_result"
    }
   ],
   "source": [
    "bal_data_X.columns"
   ]
  },
  {
   "cell_type": "markdown",
   "metadata": {},
   "source": [
    "**Con ello, ya obtengo mi dataset final**"
   ]
  },
  {
   "cell_type": "code",
   "execution_count": 32,
   "metadata": {},
   "outputs": [],
   "source": [
    "X=bal_data_X.iloc[:,[3,4,7,8,11,19,28,32,35,36]]\n",
    "y=bal_data_y['y']"
   ]
  },
  {
   "cell_type": "markdown",
   "metadata": {},
   "source": [
    "### Implementación del modelo "
   ]
  },
  {
   "cell_type": "markdown",
   "metadata": {},
   "source": [
    "Una buena práctica es revisar el p-valor de las variables en el modelo. Para ello, usamos la regresión logística que está incluida en la librería **stastmodel**"
   ]
  },
  {
   "cell_type": "markdown",
   "metadata": {},
   "source": [
    "Usamos el modelo de statsmodel para ver el p-valor de las variables"
   ]
  },
  {
   "cell_type": "markdown",
   "metadata": {},
   "source": [
    "Primero, agregamos la columna de uno al dataset de train"
   ]
  },
  {
   "cell_type": "code",
   "execution_count": 33,
   "metadata": {},
   "outputs": [],
   "source": [
    "X_stast=sm.add_constant(X)"
   ]
  },
  {
   "cell_type": "code",
   "execution_count": 34,
   "metadata": {},
   "outputs": [
    {
     "name": "stdout",
     "output_type": "stream",
     "text": [
      "Optimization terminated successfully.\n",
      "         Current function value: 0.409847\n",
      "         Iterations 7\n"
     ]
    },
    {
     "data": {
      "text/html": [
       "<table class=\"simpletable\">\n",
       "<tr>\n",
       "        <td>Model:</td>              <td>Logit</td>      <td>Pseudo R-squared:</td>    <td>0.409</td>  \n",
       "</tr>\n",
       "<tr>\n",
       "  <td>Dependent Variable:</td>         <td>y</td>              <td>AIC:</td>        <td>35421.2678</td>\n",
       "</tr>\n",
       "<tr>\n",
       "         <td>Date:</td>        <td>2021-08-11 15:17</td>       <td>BIC:</td>        <td>35516.6737</td>\n",
       "</tr>\n",
       "<tr>\n",
       "   <td>No. Observations:</td>        <td>43186</td>       <td>Log-Likelihood:</td>    <td>-17700.</td> \n",
       "</tr>\n",
       "<tr>\n",
       "       <td>Df Model:</td>             <td>10</td>            <td>LL-Null:</td>        <td>-29934.</td> \n",
       "</tr>\n",
       "<tr>\n",
       "     <td>Df Residuals:</td>          <td>43175</td>        <td>LLR p-value:</td>      <td>0.0000</td>  \n",
       "</tr>\n",
       "<tr>\n",
       "      <td>Converged:</td>           <td>1.0000</td>           <td>Scale:</td>         <td>1.0000</td>  \n",
       "</tr>\n",
       "<tr>\n",
       "    <td>No. Iterations:</td>        <td>7.0000</td>              <td></td>               <td></td>     \n",
       "</tr>\n",
       "</table>\n",
       "<table class=\"simpletable\">\n",
       "<tr>\n",
       "           <td></td>           <th>Coef.</th>  <th>Std.Err.</th>     <th>z</th>     <th>P>|z|</th> <th>[0.025</th>  <th>0.975]</th> \n",
       "</tr>\n",
       "<tr>\n",
       "  <th>const</th>              <td>-1.1105</td>  <td>0.0177</td>  <td>-62.6441</td> <td>0.0000</td> <td>-1.1452</td> <td>-1.0757</td>\n",
       "</tr>\n",
       "<tr>\n",
       "  <th>housing</th>            <td>-0.5598</td>  <td>0.0148</td>  <td>-37.9285</td> <td>0.0000</td> <td>-0.5887</td> <td>-0.5309</td>\n",
       "</tr>\n",
       "<tr>\n",
       "  <th>loan</th>               <td>-0.3911</td>  <td>0.0168</td>  <td>-23.3350</td> <td>0.0000</td> <td>-0.4239</td> <td>-0.3582</td>\n",
       "</tr>\n",
       "<tr>\n",
       "  <th>duration</th>           <td>1.6137</td>   <td>0.0181</td>   <td>88.9690</td> <td>0.0000</td> <td>1.5781</td>  <td>1.6492</td> \n",
       "</tr>\n",
       "<tr>\n",
       "  <th>campaign</th>           <td>-0.5480</td>  <td>0.0238</td>  <td>-22.9850</td> <td>0.0000</td> <td>-0.5948</td> <td>-0.5013</td>\n",
       "</tr>\n",
       "<tr>\n",
       "  <th>job_admin.</th>         <td>0.1631</td>   <td>0.0132</td>   <td>12.3269</td> <td>0.0000</td> <td>0.1371</td>  <td>0.1890</td> \n",
       "</tr>\n",
       "<tr>\n",
       "  <th>job_student</th>        <td>0.1577</td>   <td>0.0106</td>   <td>14.8293</td> <td>0.0000</td> <td>0.1369</td>  <td>0.1786</td> \n",
       "</tr>\n",
       "<tr>\n",
       "  <th>education_tertiary</th> <td>0.2300</td>   <td>0.0131</td>   <td>17.6122</td> <td>0.0000</td> <td>0.2044</td>  <td>0.2556</td> \n",
       "</tr>\n",
       "<tr>\n",
       "  <th>contact_unknown</th>    <td>-0.7037</td>  <td>0.0195</td>  <td>-36.0854</td> <td>0.0000</td> <td>-0.7419</td> <td>-0.6655</td>\n",
       "</tr>\n",
       "<tr>\n",
       "  <th>poutcome_success</th>   <td>0.4062</td>   <td>0.0128</td>   <td>31.8458</td> <td>0.0000</td> <td>0.3812</td>  <td>0.4312</td> \n",
       "</tr>\n",
       "<tr>\n",
       "  <th>poutcome_unknown</th>   <td>-0.1903</td>  <td>0.0135</td>  <td>-14.0530</td> <td>0.0000</td> <td>-0.2169</td> <td>-0.1638</td>\n",
       "</tr>\n",
       "</table>"
      ],
      "text/plain": [
       "<class 'statsmodels.iolib.summary2.Summary'>\n",
       "\"\"\"\n",
       "                          Results: Logit\n",
       "===================================================================\n",
       "Model:                Logit            Pseudo R-squared: 0.409     \n",
       "Dependent Variable:   y                AIC:              35421.2678\n",
       "Date:                 2021-08-11 15:17 BIC:              35516.6737\n",
       "No. Observations:     43186            Log-Likelihood:   -17700.   \n",
       "Df Model:             10               LL-Null:          -29934.   \n",
       "Df Residuals:         43175            LLR p-value:      0.0000    \n",
       "Converged:            1.0000           Scale:            1.0000    \n",
       "No. Iterations:       7.0000                                       \n",
       "-------------------------------------------------------------------\n",
       "                    Coef.  Std.Err.    z     P>|z|   [0.025  0.975]\n",
       "-------------------------------------------------------------------\n",
       "const              -1.1105   0.0177 -62.6441 0.0000 -1.1452 -1.0757\n",
       "housing            -0.5598   0.0148 -37.9285 0.0000 -0.5887 -0.5309\n",
       "loan               -0.3911   0.0168 -23.3350 0.0000 -0.4239 -0.3582\n",
       "duration            1.6137   0.0181  88.9690 0.0000  1.5781  1.6492\n",
       "campaign           -0.5480   0.0238 -22.9850 0.0000 -0.5948 -0.5013\n",
       "job_admin.          0.1631   0.0132  12.3269 0.0000  0.1371  0.1890\n",
       "job_student         0.1577   0.0106  14.8293 0.0000  0.1369  0.1786\n",
       "education_tertiary  0.2300   0.0131  17.6122 0.0000  0.2044  0.2556\n",
       "contact_unknown    -0.7037   0.0195 -36.0854 0.0000 -0.7419 -0.6655\n",
       "poutcome_success    0.4062   0.0128  31.8458 0.0000  0.3812  0.4312\n",
       "poutcome_unknown   -0.1903   0.0135 -14.0530 0.0000 -0.2169 -0.1638\n",
       "===================================================================\n",
       "\n",
       "\"\"\""
      ]
     },
     "execution_count": 34,
     "metadata": {},
     "output_type": "execute_result"
    }
   ],
   "source": [
    "modelo_logistico=sm.Logit(y,X_stast)\n",
    "result_modelo_logistico=modelo_logistico.fit()\n",
    "result_modelo_logistico.summary2()\n",
    "#print(result.summary2())"
   ]
  },
  {
   "cell_type": "markdown",
   "metadata": {},
   "source": [
    "Para nuestro caso, el p-valor de ninguna variable supera el 0.05"
   ]
  },
  {
   "cell_type": "markdown",
   "metadata": {},
   "source": [
    "**Implementamos el modelo con sklearn**"
   ]
  },
  {
   "cell_type": "markdown",
   "metadata": {},
   "source": [
    "Dividimos el dataset en dos conjunto: **entrenamiento y validación**"
   ]
  },
  {
   "cell_type": "code",
   "execution_count": 35,
   "metadata": {},
   "outputs": [
    {
     "data": {
      "text/plain": [
       "LogisticRegression()"
      ]
     },
     "execution_count": 35,
     "metadata": {},
     "output_type": "execute_result"
    }
   ],
   "source": [
    "regresion_logistica_f = LogisticRegression()\n",
    "regresion_logistica_f.fit(X, y)"
   ]
  },
  {
   "cell_type": "markdown",
   "metadata": {},
   "source": [
    "Una vez entrenado el modelo y guardado en el objeto **regresion_logistica_f**, predecimos usando como base el dataframe de test."
   ]
  },
  {
   "cell_type": "code",
   "execution_count": 36,
   "metadata": {},
   "outputs": [],
   "source": [
    "X_test=X_test.iloc[:,[3,4,7,8,11,19,28,32,35,36]]"
   ]
  },
  {
   "cell_type": "code",
   "execution_count": 37,
   "metadata": {},
   "outputs": [
    {
     "name": "stdout",
     "output_type": "stream",
     "text": [
      "Precisión (accuracy) del modelo:  0.8246497911034653\n"
     ]
    }
   ],
   "source": [
    "prediccion = regresion_logistica_f.predict(X_test)\n",
    "print('Precisión (accuracy) del modelo: ',regresion_logistica_f.score(X_test, y_test))"
   ]
  },
  {
   "cell_type": "markdown",
   "metadata": {},
   "source": [
    "### Métricas de evaluación del modelo "
   ]
  },
  {
   "cell_type": "markdown",
   "metadata": {},
   "source": [
    "Para evaluar el rendimiento del modelo, usaremos las métricas que obtenemos gracias a la matriz de confusión."
   ]
  },
  {
   "cell_type": "markdown",
   "metadata": {},
   "source": [
    "https://interactivechaos.com/es/manual/tutorial-de-machine-learning/disposicion-de-la-matriz-de-confusion"
   ]
  },
  {
   "attachments": {
    "confusion_matrix_sklearn.png": {
     "image/png": "[encoded data removed]"
    }
   },
   "cell_type": "markdown",
   "metadata": {},
   "source": [
    "![confusion_matrix_sklearn.png](attachment:confusion_matrix_sklearn.png)"
   ]
  },
  {
   "cell_type": "markdown",
   "metadata": {},
   "source": [
    "Matriz de confusión (generarla con seaborn para que visualmente se vea mejor)"
   ]
  },
  {
   "cell_type": "code",
   "execution_count": 38,
   "metadata": {},
   "outputs": [
    {
     "data": {
      "text/html": [
       "<div>\n",
       "<style scoped>\n",
       "    .dataframe tbody tr th:only-of-type {\n",
       "        vertical-align: middle;\n",
       "    }\n",
       "\n",
       "    .dataframe tbody tr th {\n",
       "        vertical-align: top;\n",
       "    }\n",
       "\n",
       "    .dataframe thead th {\n",
       "        text-align: right;\n",
       "    }\n",
       "</style>\n",
       "<table border=\"1\" class=\"dataframe\">\n",
       "  <thead>\n",
       "    <tr style=\"text-align: right;\">\n",
       "      <th></th>\n",
       "      <th>0</th>\n",
       "      <th>1</th>\n",
       "    </tr>\n",
       "  </thead>\n",
       "  <tbody>\n",
       "    <tr>\n",
       "      <th>0</th>\n",
       "      <td>5937</td>\n",
       "      <td>1224</td>\n",
       "    </tr>\n",
       "    <tr>\n",
       "      <th>1</th>\n",
       "      <td>203</td>\n",
       "      <td>774</td>\n",
       "    </tr>\n",
       "  </tbody>\n",
       "</table>\n",
       "</div>"
      ],
      "text/plain": [
       "      0     1\n",
       "0  5937  1224\n",
       "1   203   774"
      ]
     },
     "execution_count": 38,
     "metadata": {},
     "output_type": "execute_result"
    }
   ],
   "source": [
    "labels = np.array([0, 1])\n",
    "confusion_matrix = confusion_matrix(y_test, prediccion,labels = labels)\n",
    "pd.DataFrame(confusion_matrix, index = labels, columns = labels)"
   ]
  },
  {
   "cell_type": "markdown",
   "metadata": {},
   "source": [
    "Métricas del train"
   ]
  },
  {
   "cell_type": "code",
   "execution_count": 39,
   "metadata": {},
   "outputs": [],
   "source": [
    "from sklearn.metrics import confusion_matrix\n",
    "prediccion_0 = regresion_logistica_f.predict(X)\n",
    "confusion_matrix_0 = confusion_matrix(y, prediccion_0)\n",
    "\n",
    "#Accuracy: (VP+VN)/(VP+FP+FN+VN)\n",
    "acc_0=(confusion_matrix_0[0][0]+confusion_matrix_0[1][1])/(confusion_matrix_0[0][0]+confusion_matrix_0[0][1]+confusion_matrix_0[1][0]+confusion_matrix_0[1][1])\n",
    "#precision: VP/(VP+FP)\n",
    "prec_0=(confusion_matrix_0[1][1])/(confusion_matrix_0[1][1]+confusion_matrix_0[0][1])\n",
    "#Sensibilidad: VP/(VP+FN)\n",
    "sens_0=(confusion_matrix_0[1][1])/(confusion_matrix_0[1][1]+confusion_matrix_0[1][0])\n",
    "#Especificidad:VN/(VN+FP)\n",
    "esp_0=(confusion_matrix_0[1][1])/(confusion_matrix_0[0][0]+confusion_matrix_0[0][1])\n",
    "#F1 - score\n",
    "#2 * (Recall * Precision) / (Recall + Precision)\n",
    "f1_score_0=2*(sens_0*prec_0)/(sens_0+prec_0)\n",
    "\n",
    "curva_roc_0 = roc_auc_score(y, regresion_logistica_f.predict(X))"
   ]
  },
  {
   "cell_type": "markdown",
   "metadata": {},
   "source": [
    "Una vez obtenida la matriz de confusión, se pueden generar las métricas de evaluación del modelo"
   ]
  },
  {
   "cell_type": "code",
   "execution_count": 40,
   "metadata": {},
   "outputs": [
    {
     "name": "stdout",
     "output_type": "stream",
     "text": [
      "Accuracy: 0.8246497911034653\n",
      "\n",
      "\n",
      "Precisión: 0.38738738738738737\n",
      "\n",
      "\n",
      "Sensibilidad o recall: 0.7922210849539406\n",
      "\n",
      "\n",
      "Especificidad: 0.8290741516547968\n",
      "\n",
      "\n",
      "F1 score: 0.5203361344537815\n",
      "\n",
      "\n"
     ]
    }
   ],
   "source": [
    "from sklearn.metrics import confusion_matrix\n",
    "confusion_matrix = confusion_matrix(y_test, prediccion,labels = labels)\n",
    "#Accuracy: (VP+VN)/(VP+FP+FN+VN)\n",
    "acc=(confusion_matrix[0][0]+confusion_matrix[1][1])/(confusion_matrix[0][0]+confusion_matrix[0][1]+confusion_matrix[1][0]+confusion_matrix[1][1])\n",
    "print(\"Accuracy:\",acc)\n",
    "print(\"\\n\")\n",
    "#precision: VP/(VP+FP)\n",
    "prec=(confusion_matrix[1][1])/(confusion_matrix[1][1]+confusion_matrix[0][1])\n",
    "print(\"Precisión:\",prec)\n",
    "print(\"\\n\")\n",
    "#Sensibilidad: VP/(VP+FN)\n",
    "sens=(confusion_matrix[1][1])/(confusion_matrix[1][1]+confusion_matrix[1][0])\n",
    "print(\"Sensibilidad o recall:\", sens)\n",
    "print(\"\\n\")\n",
    "#Especificidad:VN/(VN+FP)\n",
    "esp=(confusion_matrix[0][0])/(confusion_matrix[0][0]+confusion_matrix[0][1])\n",
    "print(\"Especificidad:\",esp)\n",
    "#F1 - score\n",
    "#2 * (Recall * Precision) / (Recall + Precision)\n",
    "f1_score=2*(sens*prec)/(sens+prec)\n",
    "print(\"\\n\")\n",
    "print(\"F1 score:\",f1_score)\n",
    "print(\"\\n\")"
   ]
  },
  {
   "cell_type": "markdown",
   "metadata": {},
   "source": [
    "También se pueden ver las métricas haciendo uso de las librerías que nos da python:"
   ]
  },
  {
   "cell_type": "code",
   "execution_count": 41,
   "metadata": {},
   "outputs": [
    {
     "name": "stdout",
     "output_type": "stream",
     "text": [
      "              precision    recall  f1-score   support\n",
      "\n",
      "           0       0.97      0.83      0.89      7161\n",
      "           1       0.39      0.79      0.52       977\n",
      "\n",
      "    accuracy                           0.82      8138\n",
      "   macro avg       0.68      0.81      0.71      8138\n",
      "weighted avg       0.90      0.82      0.85      8138\n",
      "\n"
     ]
    }
   ],
   "source": [
    "print(classification_report(y_test, prediccion))"
   ]
  },
  {
   "cell_type": "markdown",
   "metadata": {},
   "source": [
    "Veamos la curva ROC, que no es más que una representación gráfica de la sensibilidad frente a la especificidad para un sistema clasificador binario según se varía el umbral de discriminación. (wikipedia)"
   ]
  },
  {
   "cell_type": "code",
   "execution_count": 42,
   "metadata": {},
   "outputs": [
    {
     "data": {
      "image/png": "[encoded data removed]",
      "text/plain": [
       "<Figure size 432x288 with 1 Axes>"
      ]
     },
     "metadata": {
      "needs_background": "light"
     },
     "output_type": "display_data"
    }
   ],
   "source": [
    "curva_roc = roc_auc_score(y_test, regresion_logistica_f.predict(X_test))\n",
    "fpr, tpr, thresholds = roc_curve(y_test, regresion_logistica_f.predict_proba(X_test)[:,1])\n",
    "plt.figure()\n",
    "plt.plot(fpr, tpr, label='Regresion logística (area = %0.2f)' % curva_roc)\n",
    "plt.plot([0, 1], [0, 1],'r--')\n",
    "plt.xlim([0.0, 1.0])\n",
    "plt.ylim([0.0, 1.05])\n",
    "plt.xlabel('Ratio de falso positivo (1 - Especificidad)')\n",
    "plt.ylabel('Ratio de verdadero positivo (Sensibilidad)')\n",
    "plt.title('Curva ROC')\n",
    "plt.legend(loc=\"lower right\")\n",
    "plt.savefig('Curva_roc')\n",
    "plt.show()"
   ]
  },
  {
   "cell_type": "markdown",
   "metadata": {},
   "source": [
    "Con la curva ROC se puede calcular el índice del gini"
   ]
  },
  {
   "cell_type": "code",
   "execution_count": 43,
   "metadata": {},
   "outputs": [
    {
     "name": "stdout",
     "output_type": "stream",
     "text": [
      "El valor del gini es:  0.6212952366087374\n"
     ]
    }
   ],
   "source": [
    "print(\"El valor del gini es: \",2*curva_roc-1)"
   ]
  },
  {
   "cell_type": "markdown",
   "metadata": {},
   "source": [
    "https://cybertesis.unmsm.edu.pe/bitstream/handle/20.500.12672/7122/Lizares_cm.pdf?sequence=1&isAllowed=y"
   ]
  },
  {
   "cell_type": "markdown",
   "metadata": {},
   "source": [
    "**Validando con el test del smote**, lo cual me da un conjunto de validación adicional"
   ]
  },
  {
   "cell_type": "code",
   "execution_count": 44,
   "metadata": {},
   "outputs": [],
   "source": [
    "X_val=X_val.iloc[:,[3,4,7,8,11,19,28,32,35,36]]"
   ]
  },
  {
   "cell_type": "code",
   "execution_count": 45,
   "metadata": {},
   "outputs": [
    {
     "name": "stdout",
     "output_type": "stream",
     "text": [
      "Precisión (accuracy) del modelo:  0.824404030474318\n"
     ]
    }
   ],
   "source": [
    "prediccion_2 = regresion_logistica_f.predict(X_val)\n",
    "acc_2=regresion_logistica_f.score(X_val, y_val)\n",
    "print('Precisión (accuracy) del modelo: ',acc_2)"
   ]
  },
  {
   "cell_type": "code",
   "execution_count": 46,
   "metadata": {},
   "outputs": [],
   "source": [
    "from sklearn.metrics import confusion_matrix\n",
    "confusion_matrix_2 = confusion_matrix(y_val, prediccion_2)\n",
    "\n",
    "#Accuracy: (VP+VN)/(VP+FP+FN+VN)\n",
    "acc_2=(confusion_matrix_2[0][0]+confusion_matrix_2[1][1])/(confusion_matrix_2[0][0]+confusion_matrix_2[0][1]+confusion_matrix_2[1][0]+confusion_matrix_2[1][1])\n",
    "#precision: VP/(VP+FP)\n",
    "prec_2=(confusion_matrix_2[1][1])/(confusion_matrix_2[1][1]+confusion_matrix_2[0][1])\n",
    "#Sensibilidad: VP/(VP+FN)\n",
    "sens_2=(confusion_matrix_2[1][1])/(confusion_matrix_2[1][1]+confusion_matrix_2[1][0])\n",
    "#Especificidad:VN/(VN+FP)\n",
    "esp_2=(confusion_matrix_2[1][1])/(confusion_matrix_2[0][0]+confusion_matrix_2[0][1])\n",
    "#F1 - score\n",
    "#2 * (Recall * Precision) / (Recall + Precision)\n",
    "f1_score_2=2*(sens_2*prec_2)/(sens_2+prec_2)"
   ]
  },
  {
   "cell_type": "code",
   "execution_count": 47,
   "metadata": {},
   "outputs": [
    {
     "name": "stdout",
     "output_type": "stream",
     "text": [
      "El valor del gini es:  0.6093388474605703\n"
     ]
    }
   ],
   "source": [
    "curva_roc_2 = roc_auc_score(y_val, regresion_logistica_f.predict(X_val))\n",
    "print(\"El valor del gini es: \",2*curva_roc_2-1)"
   ]
  },
  {
   "cell_type": "markdown",
   "metadata": {},
   "source": [
    "Procedemos a guardar el objeto del modelo"
   ]
  },
  {
   "cell_type": "code",
   "execution_count": 48,
   "metadata": {},
   "outputs": [],
   "source": [
    "filename = 'regresion logistica_10_var.sav'\n",
    "pickle.dump(regresion_logistica_f, open(os.path.join(ruta_input,filename), 'wb'))"
   ]
  },
  {
   "cell_type": "markdown",
   "metadata": {},
   "source": [
    "."
   ]
  },
  {
   "cell_type": "markdown",
   "metadata": {},
   "source": [
    "Lo siguiente se recomienda desarrollarlo en un notebook diferente"
   ]
  },
  {
   "cell_type": "markdown",
   "metadata": {},
   "source": [
    "## Validando con data examen"
   ]
  },
  {
   "cell_type": "markdown",
   "metadata": {},
   "source": [
    "Esta validación nos ayudará para validar que tan bueno está el modelo, y saber si hubo overfitting"
   ]
  },
  {
   "cell_type": "code",
   "execution_count": 49,
   "metadata": {},
   "outputs": [
    {
     "data": {
      "text/html": [
       "<div>\n",
       "<style scoped>\n",
       "    .dataframe tbody tr th:only-of-type {\n",
       "        vertical-align: middle;\n",
       "    }\n",
       "\n",
       "    .dataframe tbody tr th {\n",
       "        vertical-align: top;\n",
       "    }\n",
       "\n",
       "    .dataframe thead th {\n",
       "        text-align: right;\n",
       "    }\n",
       "</style>\n",
       "<table border=\"1\" class=\"dataframe\">\n",
       "  <thead>\n",
       "    <tr style=\"text-align: right;\">\n",
       "      <th></th>\n",
       "      <th>Unnamed: 0</th>\n",
       "      <th>age</th>\n",
       "      <th>job</th>\n",
       "      <th>marital</th>\n",
       "      <th>education</th>\n",
       "      <th>default</th>\n",
       "      <th>balance</th>\n",
       "      <th>housing</th>\n",
       "      <th>loan</th>\n",
       "      <th>contact</th>\n",
       "      <th>day</th>\n",
       "      <th>month</th>\n",
       "      <th>duration</th>\n",
       "      <th>campaign</th>\n",
       "      <th>pdays</th>\n",
       "      <th>previous</th>\n",
       "      <th>poutcome</th>\n",
       "      <th>y</th>\n",
       "    </tr>\n",
       "  </thead>\n",
       "  <tbody>\n",
       "    <tr>\n",
       "      <th>0</th>\n",
       "      <td>21039</td>\n",
       "      <td>52</td>\n",
       "      <td>blue-collar</td>\n",
       "      <td>married</td>\n",
       "      <td>unknown</td>\n",
       "      <td>no</td>\n",
       "      <td>51</td>\n",
       "      <td>no</td>\n",
       "      <td>no</td>\n",
       "      <td>cellular</td>\n",
       "      <td>14</td>\n",
       "      <td>aug</td>\n",
       "      <td>935</td>\n",
       "      <td>2</td>\n",
       "      <td>-1</td>\n",
       "      <td>0</td>\n",
       "      <td>unknown</td>\n",
       "      <td>0</td>\n",
       "    </tr>\n",
       "    <tr>\n",
       "      <th>1</th>\n",
       "      <td>28258</td>\n",
       "      <td>53</td>\n",
       "      <td>management</td>\n",
       "      <td>married</td>\n",
       "      <td>tertiary</td>\n",
       "      <td>no</td>\n",
       "      <td>232</td>\n",
       "      <td>yes</td>\n",
       "      <td>no</td>\n",
       "      <td>telephone</td>\n",
       "      <td>29</td>\n",
       "      <td>jan</td>\n",
       "      <td>32</td>\n",
       "      <td>1</td>\n",
       "      <td>-1</td>\n",
       "      <td>0</td>\n",
       "      <td>unknown</td>\n",
       "      <td>0</td>\n",
       "    </tr>\n",
       "    <tr>\n",
       "      <th>2</th>\n",
       "      <td>25319</td>\n",
       "      <td>50</td>\n",
       "      <td>unemployed</td>\n",
       "      <td>married</td>\n",
       "      <td>secondary</td>\n",
       "      <td>no</td>\n",
       "      <td>525</td>\n",
       "      <td>yes</td>\n",
       "      <td>no</td>\n",
       "      <td>telephone</td>\n",
       "      <td>18</td>\n",
       "      <td>nov</td>\n",
       "      <td>177</td>\n",
       "      <td>2</td>\n",
       "      <td>-1</td>\n",
       "      <td>0</td>\n",
       "      <td>unknown</td>\n",
       "      <td>0</td>\n",
       "    </tr>\n",
       "    <tr>\n",
       "      <th>3</th>\n",
       "      <td>15580</td>\n",
       "      <td>32</td>\n",
       "      <td>technician</td>\n",
       "      <td>single</td>\n",
       "      <td>secondary</td>\n",
       "      <td>no</td>\n",
       "      <td>648</td>\n",
       "      <td>no</td>\n",
       "      <td>yes</td>\n",
       "      <td>cellular</td>\n",
       "      <td>21</td>\n",
       "      <td>jul</td>\n",
       "      <td>166</td>\n",
       "      <td>1</td>\n",
       "      <td>-1</td>\n",
       "      <td>0</td>\n",
       "      <td>unknown</td>\n",
       "      <td>0</td>\n",
       "    </tr>\n",
       "    <tr>\n",
       "      <th>4</th>\n",
       "      <td>9745</td>\n",
       "      <td>58</td>\n",
       "      <td>housemaid</td>\n",
       "      <td>married</td>\n",
       "      <td>primary</td>\n",
       "      <td>no</td>\n",
       "      <td>2348</td>\n",
       "      <td>no</td>\n",
       "      <td>no</td>\n",
       "      <td>unknown</td>\n",
       "      <td>9</td>\n",
       "      <td>jun</td>\n",
       "      <td>226</td>\n",
       "      <td>1</td>\n",
       "      <td>-1</td>\n",
       "      <td>0</td>\n",
       "      <td>unknown</td>\n",
       "      <td>0</td>\n",
       "    </tr>\n",
       "  </tbody>\n",
       "</table>\n",
       "</div>"
      ],
      "text/plain": [
       "   Unnamed: 0  age          job  marital  education default  balance housing  \\\n",
       "0       21039   52  blue-collar  married    unknown      no       51      no   \n",
       "1       28258   53   management  married   tertiary      no      232     yes   \n",
       "2       25319   50   unemployed  married  secondary      no      525     yes   \n",
       "3       15580   32   technician   single  secondary      no      648      no   \n",
       "4        9745   58    housemaid  married    primary      no     2348      no   \n",
       "\n",
       "  loan    contact  day month  duration  campaign  pdays  previous poutcome  y  \n",
       "0   no   cellular   14   aug       935         2     -1         0  unknown  0  \n",
       "1   no  telephone   29   jan        32         1     -1         0  unknown  0  \n",
       "2   no  telephone   18   nov       177         2     -1         0  unknown  0  \n",
       "3  yes   cellular   21   jul       166         1     -1         0  unknown  0  \n",
       "4   no    unknown    9   jun       226         1     -1         0  unknown  0  "
      ]
     },
     "execution_count": 49,
     "metadata": {},
     "output_type": "execute_result"
    }
   ],
   "source": [
    "data_banco_modelo=pd.read_csv(os.path.join(ruta_input,\"base_validacion_curso.csv\"))\n",
    "data_banco_modelo.head()"
   ]
  },
  {
   "cell_type": "markdown",
   "metadata": {},
   "source": [
    "Como vemos, la data esta \"cruda\", asi que debemos hacerle el mismo tratamiento usado para el dataset anterior"
   ]
  },
  {
   "cell_type": "code",
   "execution_count": 50,
   "metadata": {},
   "outputs": [],
   "source": [
    "# housing, loan\n",
    "data_banco_modelo.loc[data_banco_modelo['housing']=='yes',['housing']]=1\n",
    "data_banco_modelo.loc[data_banco_modelo['housing']=='no',['housing']]=0\n",
    "data_banco_modelo.loc[data_banco_modelo['loan']=='yes',['loan']]=1\n",
    "data_banco_modelo.loc[data_banco_modelo['loan']=='no',['loan']]=0\n",
    "data_banco_modelo.loc[data_banco_modelo['default']=='yes',['default']]=1\n",
    "data_banco_modelo.loc[data_banco_modelo['default']=='no',['default']]=0\n",
    "###\n",
    "data_banco_modelo.loc[data_banco_modelo['month']=='jan',['month']]=1\n",
    "data_banco_modelo.loc[data_banco_modelo['month']=='feb',['month']]=2\n",
    "data_banco_modelo.loc[data_banco_modelo['month']=='mar',['month']]=3\n",
    "data_banco_modelo.loc[data_banco_modelo['month']=='apr',['month']]=4\n",
    "data_banco_modelo.loc[data_banco_modelo['month']=='may',['month']]=5\n",
    "data_banco_modelo.loc[data_banco_modelo['month']=='jun',['month']]=6\n",
    "data_banco_modelo.loc[data_banco_modelo['month']=='jul',['month']]=7\n",
    "data_banco_modelo.loc[data_banco_modelo['month']=='aug',['month']]=8\n",
    "data_banco_modelo.loc[data_banco_modelo['month']=='sep',['month']]=9\n",
    "data_banco_modelo.loc[data_banco_modelo['month']=='oct',['month']]=10\n",
    "data_banco_modelo.loc[data_banco_modelo['month']=='nov',['month']]=11\n",
    "data_banco_modelo.loc[data_banco_modelo['month']=='dec',['month']]=12"
   ]
  },
  {
   "cell_type": "code",
   "execution_count": 51,
   "metadata": {},
   "outputs": [],
   "source": [
    "base_dummies_val=pd.get_dummies(data_banco_modelo[['job','marital','education','contact','poutcome']])\n",
    "data_banco_modelo=pd.concat([data_banco_modelo,base_dummies_val],axis=1)"
   ]
  },
  {
   "cell_type": "code",
   "execution_count": 52,
   "metadata": {},
   "outputs": [],
   "source": [
    "X_OOT=['age', 'default', 'balance', 'housing',\n",
    "       'loan', 'day', 'month', 'duration', 'campaign', 'pdays',\n",
    "       'previous', 'job_admin.', 'job_blue-collar',\n",
    "       'job_entrepreneur', 'job_housemaid', 'job_management', 'job_retired',\n",
    "       'job_self-employed', 'job_services', 'job_student', 'job_technician',\n",
    "       'job_unemployed', 'job_unknown', 'marital_divorced', 'marital_married',\n",
    "       'marital_single', 'education_primary', 'education_secondary',\n",
    "       'education_tertiary', 'education_unknown', 'contact_cellular',\n",
    "       'contact_telephone', 'contact_unknown', 'poutcome_failure',\n",
    "       'poutcome_other', 'poutcome_success', 'poutcome_unknown']\n",
    "Y_OOT=['y']"
   ]
  },
  {
   "cell_type": "code",
   "execution_count": 53,
   "metadata": {},
   "outputs": [],
   "source": [
    "base_X_val=data_banco_modelo[X_OOT]\n",
    "base_y_val=data_banco_modelo[Y_OOT]\n",
    "base_X_val['month'].apply(int)\n",
    "base_X_val['default']=base_X_val['default'].apply(int)\n",
    "base_X_val['housing']=base_X_val['housing'].apply(int)\n",
    "base_X_val['loan']=base_X_val['loan'].apply(int)\n",
    "base_y_val['y']=base_y_val['y'].apply(int)"
   ]
  },
  {
   "cell_type": "code",
   "execution_count": 54,
   "metadata": {},
   "outputs": [],
   "source": [
    "base_X_scal_var=base_X_val.apply(lambda x: (x-x.mean())/x.std(), axis=0)"
   ]
  },
  {
   "cell_type": "code",
   "execution_count": 55,
   "metadata": {},
   "outputs": [],
   "source": [
    "X_OOT=base_X_scal_var.iloc[:,[3,4,7,8,11,19,28,32,35,36]]\n",
    "Y_OOT=base_y_val['y']"
   ]
  },
  {
   "cell_type": "markdown",
   "metadata": {},
   "source": [
    "**Cargamos el objeto del modelo**"
   ]
  },
  {
   "cell_type": "code",
   "execution_count": 56,
   "metadata": {},
   "outputs": [],
   "source": [
    "filename = 'regresion logistica_10_var.sav'\n",
    "loaded_model_rl = pickle.load(open(os.path.join(ruta_input,filename), 'rb'))"
   ]
  },
  {
   "cell_type": "code",
   "execution_count": 57,
   "metadata": {},
   "outputs": [
    {
     "name": "stdout",
     "output_type": "stream",
     "text": [
      "Precisión (accuracy) del modelo:  0.8339230429013711\n"
     ]
    }
   ],
   "source": [
    "prediccion_3 = loaded_model_rl.predict(X_OOT)\n",
    "acc_3=loaded_model_rl.score(X_OOT, Y_OOT)\n",
    "print('Precisión (accuracy) del modelo: ',acc_3)"
   ]
  },
  {
   "cell_type": "code",
   "execution_count": 58,
   "metadata": {},
   "outputs": [],
   "source": [
    "from sklearn.metrics import confusion_matrix\n",
    "confusion_matrix_3 = confusion_matrix(Y_OOT, prediccion_3)\n",
    "\n",
    "#Accuracy: (VP+VN)/(VP+FP+FN+VN)\n",
    "acc_3=(confusion_matrix_3[0][0]+confusion_matrix_3[1][1])/(confusion_matrix_3[0][0]+confusion_matrix_3[0][1]+confusion_matrix_3[1][0]+confusion_matrix_3[1][1])\n",
    "#precision: VP/(VP+FP)\n",
    "prec_3=(confusion_matrix_3[1][1])/(confusion_matrix_3[1][1]+confusion_matrix_3[0][1])\n",
    "#Sensibilidad: VP/(VP+FN)\n",
    "sens_3=(confusion_matrix_3[1][1])/(confusion_matrix_3[1][1]+confusion_matrix_3[1][0])\n",
    "#Especificidad:VN/(VN+FP)\n",
    "esp_3=(confusion_matrix_3[1][1])/(confusion_matrix_3[0][0]+confusion_matrix_3[0][1])\n",
    "#F1 - score\n",
    "#2 * (Recall * Precision) / (Recall + Precision)\n",
    "f1_score_3=2*(sens_3*prec_3)/(sens_3+prec_3)"
   ]
  },
  {
   "cell_type": "code",
   "execution_count": 59,
   "metadata": {},
   "outputs": [
    {
     "name": "stdout",
     "output_type": "stream",
     "text": [
      "El valor del gini es:  0.6364493250712377\n"
     ]
    }
   ],
   "source": [
    "curva_roc_3 = roc_auc_score(Y_OOT, regresion_logistica_f.predict(X_OOT))\n",
    "print(\"El valor del gini es: \",2*curva_roc_3-1)"
   ]
  },
  {
   "cell_type": "markdown",
   "metadata": {},
   "source": [
    "### Comparando resultados"
   ]
  },
  {
   "cell_type": "markdown",
   "metadata": {},
   "source": [
    "Veamos los resultados en cada fase de la construcción del modelo con regresión logística"
   ]
  },
  {
   "cell_type": "code",
   "execution_count": 60,
   "metadata": {},
   "outputs": [
    {
     "data": {
      "text/html": [
       "<div>\n",
       "<style scoped>\n",
       "    .dataframe tbody tr th:only-of-type {\n",
       "        vertical-align: middle;\n",
       "    }\n",
       "\n",
       "    .dataframe tbody tr th {\n",
       "        vertical-align: top;\n",
       "    }\n",
       "\n",
       "    .dataframe thead th {\n",
       "        text-align: right;\n",
       "    }\n",
       "</style>\n",
       "<table border=\"1\" class=\"dataframe\">\n",
       "  <thead>\n",
       "    <tr style=\"text-align: right;\">\n",
       "      <th></th>\n",
       "      <th>Etapa</th>\n",
       "      <th># Variable</th>\n",
       "      <th>Accuracy</th>\n",
       "      <th>F1 Score</th>\n",
       "      <th>AUC</th>\n",
       "      <th>Gini</th>\n",
       "    </tr>\n",
       "  </thead>\n",
       "  <tbody>\n",
       "    <tr>\n",
       "      <th>0</th>\n",
       "      <td>Train</td>\n",
       "      <td>10</td>\n",
       "      <td>0.827074</td>\n",
       "      <td>0.825424</td>\n",
       "      <td>0.827074</td>\n",
       "      <td>0.621295</td>\n",
       "    </tr>\n",
       "    <tr>\n",
       "      <th>1</th>\n",
       "      <td>Test</td>\n",
       "      <td>10</td>\n",
       "      <td>0.824650</td>\n",
       "      <td>0.520336</td>\n",
       "      <td>0.810648</td>\n",
       "      <td>0.621295</td>\n",
       "    </tr>\n",
       "    <tr>\n",
       "      <th>2</th>\n",
       "      <td>Validation</td>\n",
       "      <td>10</td>\n",
       "      <td>0.824404</td>\n",
       "      <td>0.512120</td>\n",
       "      <td>0.804669</td>\n",
       "      <td>0.609339</td>\n",
       "    </tr>\n",
       "    <tr>\n",
       "      <th>3</th>\n",
       "      <td>OOT</td>\n",
       "      <td>10</td>\n",
       "      <td>0.833923</td>\n",
       "      <td>0.529154</td>\n",
       "      <td>0.818225</td>\n",
       "      <td>0.636449</td>\n",
       "    </tr>\n",
       "  </tbody>\n",
       "</table>\n",
       "</div>"
      ],
      "text/plain": [
       "        Etapa  # Variable  Accuracy  F1 Score       AUC      Gini\n",
       "0       Train          10  0.827074  0.825424  0.827074  0.621295\n",
       "1        Test          10  0.824650  0.520336  0.810648  0.621295\n",
       "2  Validation          10  0.824404  0.512120  0.804669  0.609339\n",
       "3         OOT          10  0.833923  0.529154  0.818225  0.636449"
      ]
     },
     "execution_count": 60,
     "metadata": {},
     "output_type": "execute_result"
    }
   ],
   "source": [
    "Tabla=pd.DataFrame({\"Etapa\":[\"Train\",\"Test\",\"Validation\",\"OOT\"],\"# Variable\":[10,10,10,10],\"Accuracy\":[acc_0,acc,acc_2,acc_3],\n",
    "                    \"F1 Score\":[f1_score_0,f1_score,f1_score_2,f1_score_3],\"AUC\":[curva_roc_0,curva_roc,curva_roc_2,curva_roc_3],\n",
    "                    \"Gini\":[2*curva_roc-.0-1,2*curva_roc-1,2*curva_roc_2-1,2*curva_roc_3-1]})\n",
    "Tabla"
   ]
  },
  {
   "cell_type": "code",
   "execution_count": 61,
   "metadata": {},
   "outputs": [],
   "source": [
    "Tabla2=Tabla.copy()\n",
    "bi=Tabla['Gini'][Tabla['Etapa']=='Train']*0.90\n",
    "bs=Tabla['Gini'][Tabla['Etapa']=='Train']*0.95\n",
    "bi_2=Tabla['Gini'][Tabla['Etapa']=='Train']*1.05\n",
    "bs_2=Tabla['Gini'][Tabla['Etapa']=='Train']*1.10\n",
    "Tabla2['Banda_inferior']=bi[0]\n",
    "Tabla2['Banda_superior']=bs[0]\n",
    "Tabla2['Banda_inferior_2']=bi_2[0]\n",
    "Tabla2['Banda_superior_2']=bs_2[0]"
   ]
  },
  {
   "cell_type": "code",
   "execution_count": 62,
   "metadata": {},
   "outputs": [
    {
     "data": {
      "image/png": "[encoded data removed]",
      "text/plain": [
       "<Figure size 720x432 with 1 Axes>"
      ]
     },
     "metadata": {
      "needs_background": "light"
     },
     "output_type": "display_data"
    }
   ],
   "source": [
    "plt.figure(figsize=(10,6))\n",
    "plt.plot(Tabla2['Etapa'],Tabla2['Gini'], color='blue',marker='o',markersize=8)\n",
    "plt.plot(Tabla2['Etapa'],Tabla2['Banda_superior'], color='green',ls='--')\n",
    "plt.plot(Tabla2['Etapa'],Tabla2['Banda_inferior'], color='red',linestyle='dashed')\n",
    "plt.plot(Tabla2['Etapa'],Tabla2['Banda_superior_2'], color='red',ls='--')\n",
    "plt.plot(Tabla2['Etapa'],Tabla2['Banda_inferior_2'], color='green',linestyle='dashed')\n",
    "plt.ylim(0.5,0.8)\n",
    "plt.ylabel('Gini',fontsize=11, color='blue')\n",
    "plt.xlabel('Etapas', fontsize=11, color='blue')\n",
    "plt.title('Evolución del gini - Regresión logística',fontweight='bold', fontsize=14, color='blue')\n",
    "\n",
    "eje_x=Tabla2['Etapa']\n",
    "eje_y=np.round(Tabla2['Gini'],2)\n",
    "eje_y_alt=[0.66,0.66,0.64,0.65]\n",
    "\n",
    "for x, y, z in zip(eje_x, eje_y,eje_y_alt):\n",
    "    plt.text(x, z, y, ha='center', va='bottom', fontweight='bold',fontsize=11,bbox=dict(facecolor='blue', alpha=0.7), color='white')\n",
    "\n",
    "plt.show()"
   ]
  },
  {
   "cell_type": "markdown",
   "metadata": {},
   "source": [
    "**Fin**"
   ]
  },
  {
   "cell_type": "code",
   "execution_count": null,
   "metadata": {},
   "outputs": [],
   "source": []
  }
 ],
 "metadata": {
  "kernelspec": {
   "display_name": "Python 3",
   "language": "python",
   "name": "python3"
  },
  "language_info": {
   "codemirror_mode": {
    "name": "ipython",
    "version": 3
   },
   "file_extension": ".py",
   "mimetype": "text/x-python",
   "name": "python",
   "nbconvert_exporter": "python",
   "pygments_lexer": "ipython3",
   "version": "3.7.6"
  }
 },
 "nbformat": 4,
 "nbformat_minor": 4
}
